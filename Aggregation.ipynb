{
 "cells": [
  {
   "cell_type": "code",
   "execution_count": 1,
   "metadata": {
    "collapsed": true,
    "pycharm": {
     "is_executing": false,
     "name": "#%%\n"
    }
   },
   "outputs": [],
   "source": [
    "from scripts import support, metrics, vectorization as v, aggregation\n",
    "from scripts.kuroda import kuroda\n",
    "from scripts.insd import insd\n",
    "from scripts.nras import nras\n",
    "import numpy as np\n",
    "import pandas as pd\n",
    "import matplotlib.pyplot as plt\n",
    "import sys\n",
    "from scipy.sparse import csr_matrix\n",
    "%matplotlib inline"
   ]
  },
  {
   "cell_type": "code",
   "execution_count": 2,
   "metadata": {
    "collapsed": true,
    "pycharm": {
     "is_executing": false,
     "name": "#%%\n"
    }
   },
   "outputs": [],
   "source": [
    "#CODES\n",
    "\n",
    "\n",
    "df = pd.read_excel(\"./data/Use_SUT_Framework_2007_2012_DET.xlsx\", \"NAICS Codes\", skiprows=4)\n",
    "df = df.iloc[:-6,:-1]\n",
    "df = df.dropna(axis=0, how = 'all')\n",
    "df = df.fillna(0)\n",
    "\n",
    "codes = np.array(df)"
   ]
  },
  {
   "cell_type": "code",
   "execution_count": 3,
   "metadata": {
    "collapsed": true,
    "pycharm": {
     "name": "#%%\n"
    }
   },
   "outputs": [],
   "source": [
    "#DET 2007\n",
    "\n",
    "\n",
    "df = pd.read_excel(\"./data/Use_SUT_Framework_2007_2012_DET.xlsx\", \"2007\")\n",
    "df = df.iloc[5:-11,2:-21]\n",
    "df = df.fillna(0)\n",
    "\n",
    "DET_2007 = np.array(df)\n",
    "DET_2007 = np.where(DET_2007=='...', 0, DET_2007)\n",
    "dt_2007 = v.tovector(DET_2007).astype(float)\n",
    "# np.shape(DET_2007)"
   ]
  },
  {
   "cell_type": "code",
   "execution_count": 4,
   "metadata": {
    "collapsed": true,
    "pycharm": {
     "name": "#%%\n"
    }
   },
   "outputs": [],
   "source": [
    "#DET 2012\n",
    "\n",
    "\n",
    "df = pd.read_excel(\"./data/Use_SUT_Framework_2007_2012_DET.xlsx\", \"2012\")\n",
    "df = df.iloc[5:-11,2:-21]\n",
    "df = df.fillna(0)\n",
    "\n",
    "DET_2012 = np.array(df)\n",
    "DET_2012 = np.where(DET_2012=='...', 0, DET_2012)\n",
    "dt_2012 = v.tovector(DET_2012).astype(float)\n",
    "\n",
    "\n",
    "#Зануляем элементы, в которых меняется знак\n",
    "det_2007 = dt_2007\n",
    "det_2012 = dt_2012\n",
    "det_2007[dt_2007 * dt_2012 < 0] = 0\n",
    "det_2012[dt_2007 * dt_2012 < 0] = 0\n",
    "DET_2012[DET_2007 * DET_2012 < 0] = 0\n",
    "\n",
    "\n",
    "#Считаем итоги по строкам и столбцам\n",
    "rows_sums_2012 = np.sum(DET_2012, axis=1)\n",
    "columns_sums_2012 = np.sum(DET_2012, axis=0)\n",
    "totals_2012 = np.concatenate((rows_sums_2012, columns_sums_2012)).astype(float)[np.newaxis].T\n",
    "# DET_2012"
   ]
  },
  {
   "cell_type": "code",
   "execution_count": null,
   "metadata": {
    "collapsed": true
   },
   "outputs": [],
   "source": []
  },
  {
   "cell_type": "code",
   "execution_count": 5,
   "metadata": {
    "collapsed": true
   },
   "outputs": [],
   "source": [
    "#SUM 2007\n",
    "\n",
    "\n",
    "df = pd.read_excel(\"./data/Use_SUT_Framework_1997-2017_SUM.xlsx\", \"2007\")\n",
    "df = df.iloc[6:-9,2:-21]\n",
    "df = df.fillna(0)\n",
    "\n",
    "SUM_2007 = np.array(df)\n",
    "SUM_2007 = np.where(SUM_2007=='...', 0, SUM_2007)\n",
    "\n",
    "SUM_2007[[72, 71]] = SUM_2007[[71, 72]]\n",
    "sum_2007 = v.tovector(SUM_2007).astype(float)\n",
    "# np.shape(SUM_2007)"
   ]
  },
  {
   "cell_type": "code",
   "execution_count": 6,
   "metadata": {
    "collapsed": true
   },
   "outputs": [],
   "source": [
    "#SUM 2012\n",
    "\n",
    "\n",
    "df = pd.read_excel(\"./data/Use_SUT_Framework_1997-2017_SUM.xlsx\", \"2012\")\n",
    "df = df.iloc[6:-9,2:-21]\n",
    "df = df.fillna(0)\n",
    "\n",
    "SUM_2012 = np.array(df)\n",
    "SUM_2012 = np.where(SUM_2012=='...', 0, SUM_2012)\n",
    "\n",
    "SUM_2012[[72, 71]] = SUM_2012[[71, 72]]\n",
    "sum_2012 = v.tovector(SUM_2012).astype(float)\n",
    "# SUM_2012"
   ]
  },
  {
   "cell_type": "code",
   "execution_count": 7,
   "metadata": {
    "collapsed": true
   },
   "outputs": [],
   "source": [
    "#SECT 2007\n",
    "\n",
    "\n",
    "df = pd.read_excel(\"./data/Use_SUT_Framework_1997-2017_SECT.xlsx\", \"2007\")\n",
    "df = df.iloc[6:-9, 2:-7]\n",
    "df = df.fillna(0)\n",
    "\n",
    "SECT_2007 = np.array(df)\n",
    "SECT_2007 = np.where(SECT_2007=='...', 0, SECT_2007)\n",
    "sect_2007 = v.tovector(SECT_2007).astype(float)\n",
    "# SECT_2007"
   ]
  },
  {
   "cell_type": "code",
   "execution_count": 8,
   "metadata": {
    "collapsed": true
   },
   "outputs": [],
   "source": [
    "#SECT 2012\n",
    "\n",
    "\n",
    "df = pd.read_excel(\"./data/Use_SUT_Framework_1997-2017_SECT.xlsx\", \"2012\")\n",
    "df = df.iloc[6:-9, 2:-7]\n",
    "df = df.fillna(0)\n",
    "\n",
    "SECT_2012 = np.array(df)\n",
    "SECT_2012 = np.where(SECT_2012=='...', 0, SECT_2012)\n",
    "sect_2012 = v.tovector(SECT_2012).astype(float)\n",
    "# SECT_2012"
   ]
  },
  {
   "cell_type": "code",
   "execution_count": 9,
   "metadata": {
    "collapsed": true
   },
   "outputs": [],
   "source": [
    "#parsing aggregation codes\n",
    "\n",
    "\n",
    "sect_rows, sect_columns, sum_rows, sum_columns = aggregation.parse_agg(codes)"
   ]
  },
  {
   "cell_type": "code",
   "execution_count": 10,
   "metadata": {
    "collapsed": true,
    "pycharm": {
     "name": "#%%\n"
    }
   },
   "outputs": [],
   "source": [
    "#Составляем матрицы-ключи агрегации и векторизованный вид\n",
    "#Для аггрегации в SUM (73,71)\n",
    "\n",
    "left_sum = aggregation.make_keym(405, 73, sum_rows)\n",
    "right_sum = aggregation.make_keym(405, 71, sum_columns)\n",
    "\n",
    "g_to_sum = csr_matrix(aggregation.keys_to_g(left_sum, right_sum))"
   ]
  },
  {
   "cell_type": "code",
   "execution_count": 11,
   "metadata": {},
   "outputs": [
    {
     "data": {
      "text/plain": [
       "array([[1., 1., 1., ..., 0., 0., 0.],\n",
       "       [0., 0., 0., ..., 0., 0., 0.],\n",
       "       [0., 0., 0., ..., 0., 0., 0.],\n",
       "       ...,\n",
       "       [0., 0., 0., ..., 0., 0., 0.],\n",
       "       [0., 0., 0., ..., 1., 0., 0.],\n",
       "       [0., 0., 0., ..., 0., 1., 1.]])"
      ]
     },
     "execution_count": 11,
     "metadata": {},
     "output_type": "execute_result"
    }
   ],
   "source": [
    "aggregation.keys_to_g(left_sum, right_sum)"
   ]
  },
  {
   "cell_type": "code",
   "execution_count": 12,
   "metadata": {
    "collapsed": true,
    "pycharm": {
     "name": "#%%\n"
    }
   },
   "outputs": [],
   "source": [
    "#Составляем матрицы-ключи агрегации и векторизованный вид\n",
    "#Для аггрегации в SECT (17,15)\n",
    "\n",
    "left_sect = aggregation.make_keym(405, 17, sect_rows)\n",
    "right_sect = aggregation.make_keym(405, 15, sect_columns)\n",
    "\n",
    "g_to_sect = csr_matrix(aggregation.keys_to_g(left_sect, right_sect))"
   ]
  },
  {
   "cell_type": "code",
   "execution_count": 13,
   "metadata": {
    "collapsed": true
   },
   "outputs": [],
   "source": [
    "g_sum_w_totals = v.addrows((405,405), g_to_sum, sparsed=True)\n",
    "g_sum_w_totals = v.addcolumns((405,405), g_sum_w_totals, sparsed=True)"
   ]
  },
  {
   "cell_type": "code",
   "execution_count": 14,
   "metadata": {},
   "outputs": [
    {
     "data": {
      "text/plain": [
       "<matplotlib.lines.Line2D at 0x118e2b390>"
      ]
     },
     "execution_count": 14,
     "metadata": {},
     "output_type": "execute_result"
    },
    {
     "data": {
      "image/png": "[encoded data removed]",
      "text/plain": [
       "<Figure size 432x288 with 1 Axes>"
      ]
     },
     "metadata": {},
     "output_type": "display_data"
    }
   ],
   "source": [
    "plt.spy(g_to_sum,aspect='auto')"
   ]
  },
  {
   "cell_type": "code",
   "execution_count": 15,
   "metadata": {},
   "outputs": [
    {
     "data": {
      "text/plain": [
       "<matplotlib.lines.Line2D at 0x1074572b0>"
      ]
     },
     "execution_count": 15,
     "metadata": {},
     "output_type": "execute_result"
    },
    {
     "data": {
      "image/png": "[encoded data removed]",
      "text/plain": [
       "<Figure size 432x288 with 1 Axes>"
      ]
     },
     "metadata": {},
     "output_type": "display_data"
    }
   ],
   "source": [
    "plt.spy(g_sum_w_totals,aspect='auto')"
   ]
  },
  {
   "cell_type": "code",
   "execution_count": 16,
   "metadata": {},
   "outputs": [
    {
     "data": {
      "text/plain": [
       "(810, 1)"
      ]
     },
     "execution_count": 16,
     "metadata": {},
     "output_type": "execute_result"
    }
   ],
   "source": [
    "np.shape(totals_2012)"
   ]
  },
  {
   "cell_type": "code",
   "execution_count": 17,
   "metadata": {
    "collapsed": true
   },
   "outputs": [],
   "source": [
    "true_sum_2012 = g_to_sum @ det_2012\n",
    "sum_2012_with_totals = np.append(sum_2012, totals_2012, axis=0)\n",
    "true_sum_2012_with_totals = np.append(true_sum_2012, totals_2012, axis=0)"
   ]
  },
  {
   "cell_type": "code",
   "execution_count": 25,
   "metadata": {},
   "outputs": [
    {
     "name": "stdout",
     "output_type": "stream",
     "text": [
      "1\n",
      "N0 1483\n",
      "PSISTAT 0.0338\n",
      "RSQ 0.9684\n",
      "MAPE 14.9574\n",
      "SWAD 0.066\n",
      "WAPE 23.2183\n"
     ]
    }
   ],
   "source": [
    "#Эксперимент: дезаггрегация таблицы DET_2012 из таблицы SUM_2012\n",
    "#Бенчмарк: DET_2007\n",
    "#Ограничения: таблица SUM_2012\n",
    "#Метод: NRAS, точность 0.01, 100 иттераций\n",
    "\n",
    "\n",
    "\n",
    "result_sum_to_det = np.round(nras.nras(g_to_sum, det_2007, sum_2012, 0.01, 100, sparsed=True))\n",
    "metrics.get_values(result_sum_to_det, det_2012)"
   ]
  },
  {
   "cell_type": "code",
   "execution_count": 26,
   "metadata": {},
   "outputs": [
    {
     "name": "stdout",
     "output_type": "stream",
     "text": [
      "1\n",
      "N0 1481\n",
      "PSISTAT 0.0338\n",
      "RSQ 0.9684\n",
      "MAPE 14.9614\n",
      "SWAD 0.066\n",
      "WAPE 23.2184\n"
     ]
    }
   ],
   "source": [
    "#Эксперимент: дезаггрегация таблицы DET_2012 из таблицы SUM_2012\n",
    "#Бенчмарк: DET_2007\n",
    "#Ограничения: агрегированная таблица DET_2012\n",
    "#Метод: NRAS, точность 0.01, 100 иттераций\n",
    "\n",
    "\n",
    "result_sum_to_det = np.round(nras.nras(g_to_sum, det_2007, true_sum_2012, 0.01, 100, sparsed=True))\n",
    "metrics.get_values(result_sum_to_det, det_2012)"
   ]
  },
  {
   "cell_type": "code",
   "execution_count": 19,
   "metadata": {},
   "outputs": [
    {
     "name": "stdout",
     "output_type": "stream",
     "text": [
      "100\n",
      "N0 1461\n",
      "PSISTAT 0.0146\n",
      "RSQ 0.9909\n",
      "MAPE 9.9558\n",
      "SWAD 0.0317\n",
      "WAPE 13.0282\n"
     ]
    }
   ],
   "source": [
    "#Эксперимент: дезаггрегация таблицы DET_2012 из таблицы SUM_2012\n",
    "#Бенчмарк: DET_2007\n",
    "#Ограничения: таблица SUM_2012 + итоги по строкам и столбцам\n",
    "#Метод: NRAS, точность 0.01, 100 иттераций\n",
    "\n",
    "\n",
    "\n",
    "\n",
    "result_sum_to_det = np.round(nras.nras(g_sum_w_totals, det_2007, sum_2012_with_totals, 0.01, 100, sparsed=True))\n",
    "metrics.get_values(result_sum_to_det, det_2012)"
   ]
  },
  {
   "cell_type": "code",
   "execution_count": 20,
   "metadata": {},
   "outputs": [
    {
     "name": "stdout",
     "output_type": "stream",
     "text": [
      "100\n",
      "N0 1451\n",
      "PSISTAT 0.0146\n",
      "RSQ 0.9909\n",
      "MAPE 9.9497\n",
      "SWAD 0.0317\n",
      "WAPE 13.0281\n"
     ]
    }
   ],
   "source": [
    "#Эксперимент: дезаггрегация таблицы DET_2012 из таблицы SUM_2012\n",
    "#Бенчмарк: DET_2007\n",
    "#Ограничения: агрегированная таблица DET_2012 + итоги по строкам и столбцам\n",
    "#Метод: NRAS, точность 0.01, 100 иттераций\n",
    "\n",
    "\n",
    "\n",
    "\n",
    "result_sum_to_det = np.round(nras.nras(g_sum_w_totals, det_2007, true_sum_2012_with_totals, 0.01, 100, sparsed=True))\n",
    "metrics.get_values(result_sum_to_det, det_2012)"
   ]
  },
  {
   "cell_type": "code",
   "execution_count": 21,
   "metadata": {
    "scrolled": true
   },
   "outputs": [
    {
     "name": "stdout",
     "output_type": "stream",
     "text": [
      "Academic license - for non-commercial use only\n",
      "Parameter BarConvTol unchanged\n",
      "   Value: 1e-08  Min: 0.0  Max: 1.0  Default: 1e-08\n",
      "Parameter BarQCPConvTol unchanged\n",
      "   Value: 1e-06  Min: 0.0  Max: 1.0  Default: 1e-06\n",
      "Changed value of parameter DualReductions to 0\n",
      "   Prev: 1  Min: 0  Max: 1  Default: 1\n"
     ]
    },
    {
     "name": "stderr",
     "output_type": "stream",
     "text": [
      "ERROR:root:Traceback (most recent call last):\n",
      "  File \"D:\\materials\\lab\\gitprjct\\Disaggregation\\scripts\\insd.py\", line 69, in insd\n",
      "    result = np.array([v.x for v in model.getVars()])\n",
      "  File \"D:\\materials\\lab\\gitprjct\\Disaggregation\\scripts\\insd.py\", line 69, in <listcomp>\n",
      "    result = np.array([v.x for v in model.getVars()])\n",
      "  File \"var.pxi\", line 76, in gurobipy.Var.__getattr__\n",
      "  File \"var.pxi\", line 142, in gurobipy.Var.getAttr\n",
      "AttributeError: b\"Unable to retrieve attribute 'x'\"\n",
      "\n"
     ]
    },
    {
     "data": {
      "text/plain": [
       "-1"
      ]
     },
     "execution_count": 21,
     "metadata": {},
     "output_type": "execute_result"
    }
   ],
   "source": [
    "#Эксперимент: дезаггрегация таблицы DET_2012 из таблицы SUM_2012\n",
    "#Бенчмарк: DET_2007\n",
    "#Ограничения: таблица SUM_2012\n",
    "#Метод: INSD\n",
    "\n",
    "\n",
    "\n",
    "result_sum_to_det = np.round(insd.insd(g_to_sum, det_2007, sum_2012, sparsed=True))\n",
    "result_sum_to_det\n",
    "# metrics.get_values(result_sum_to_det, det_2012)"
   ]
  },
  {
   "cell_type": "code",
   "execution_count": 22,
   "metadata": {},
   "outputs": [
    {
     "name": "stdout",
     "output_type": "stream",
     "text": [
      "Parameter BarConvTol unchanged\n",
      "   Value: 1e-08  Min: 0.0  Max: 1.0  Default: 1e-08\n",
      "Parameter BarQCPConvTol unchanged\n",
      "   Value: 1e-06  Min: 0.0  Max: 1.0  Default: 1e-06\n",
      "Changed value of parameter DualReductions to 0\n",
      "   Prev: 1  Min: 0  Max: 1  Default: 1\n"
     ]
    },
    {
     "name": "stderr",
     "output_type": "stream",
     "text": [
      "ERROR:root:Traceback (most recent call last):\n",
      "  File \"D:\\materials\\lab\\gitprjct\\Disaggregation\\scripts\\insd.py\", line 69, in insd\n",
      "    result = np.array([v.x for v in model.getVars()])\n",
      "  File \"D:\\materials\\lab\\gitprjct\\Disaggregation\\scripts\\insd.py\", line 69, in <listcomp>\n",
      "    result = np.array([v.x for v in model.getVars()])\n",
      "  File \"var.pxi\", line 76, in gurobipy.Var.__getattr__\n",
      "  File \"var.pxi\", line 142, in gurobipy.Var.getAttr\n",
      "AttributeError: b\"Unable to retrieve attribute 'x'\"\n",
      "\n"
     ]
    },
    {
     "data": {
      "text/plain": [
       "-1"
      ]
     },
     "execution_count": 22,
     "metadata": {},
     "output_type": "execute_result"
    }
   ],
   "source": [
    "#Эксперимент: дезаггрегация таблицы DET_2012 из таблицы SUM_2012\n",
    "#Бенчмарк: DET_2007\n",
    "#Ограничения: агрегированная таблица DET_2012\n",
    "#Метод: INSD\n",
    "\n",
    "\n",
    "\n",
    "result_sum_to_det = np.round(insd.insd(g_to_sum, det_2007, true_sum_2012, sparsed=True))\n",
    "result_sum_to_det\n",
    "# metrics.get_values(result_sum_to_det, det_2012)"
   ]
  },
  {
   "cell_type": "code",
   "execution_count": 23,
   "metadata": {
    "scrolled": true
   },
   "outputs": [
    {
     "name": "stdout",
     "output_type": "stream",
     "text": [
      "Parameter BarConvTol unchanged\n",
      "   Value: 1e-08  Min: 0.0  Max: 1.0  Default: 1e-08\n",
      "Parameter BarQCPConvTol unchanged\n",
      "   Value: 1e-06  Min: 0.0  Max: 1.0  Default: 1e-06\n",
      "Changed value of parameter DualReductions to 0\n",
      "   Prev: 1  Min: 0  Max: 1  Default: 1\n"
     ]
    },
    {
     "name": "stderr",
     "output_type": "stream",
     "text": [
      "ERROR:root:Traceback (most recent call last):\n",
      "  File \"D:\\materials\\lab\\gitprjct\\Disaggregation\\scripts\\insd.py\", line 69, in insd\n",
      "    result = np.array([v.x for v in model.getVars()])\n",
      "  File \"D:\\materials\\lab\\gitprjct\\Disaggregation\\scripts\\insd.py\", line 69, in <listcomp>\n",
      "    result = np.array([v.x for v in model.getVars()])\n",
      "  File \"var.pxi\", line 76, in gurobipy.Var.__getattr__\n",
      "  File \"var.pxi\", line 142, in gurobipy.Var.getAttr\n",
      "AttributeError: b\"Unable to retrieve attribute 'x'\"\n",
      "\n"
     ]
    },
    {
     "data": {
      "text/plain": [
       "-1"
      ]
     },
     "execution_count": 23,
     "metadata": {},
     "output_type": "execute_result"
    }
   ],
   "source": [
    "#Эксперимент: дезаггрегация таблицы DET_2012 из таблицы SUM_2012\n",
    "#Бенчмарк: DET_2007\n",
    "#Ограничения: таблица SUM_2012 + итоги по строкам и столбцам\n",
    "#Метод: INSD\n",
    "\n",
    "\n",
    "\n",
    "result_sum_to_det = np.round(insd.insd(g_sum_w_totals, det_2007, sum_2012_with_totals, sparsed=True))\n",
    "result_sum_to_det\n",
    "# metrics.get_values(result_sum_to_det, det_2012)"
   ]
  },
  {
   "cell_type": "code",
   "execution_count": 24,
   "metadata": {},
   "outputs": [
    {
     "name": "stdout",
     "output_type": "stream",
     "text": [
      "Parameter BarConvTol unchanged\n",
      "   Value: 1e-08  Min: 0.0  Max: 1.0  Default: 1e-08\n",
      "Parameter BarQCPConvTol unchanged\n",
      "   Value: 1e-06  Min: 0.0  Max: 1.0  Default: 1e-06\n",
      "Changed value of parameter DualReductions to 0\n",
      "   Prev: 1  Min: 0  Max: 1  Default: 1\n"
     ]
    },
    {
     "name": "stderr",
     "output_type": "stream",
     "text": [
      "ERROR:root:Traceback (most recent call last):\n",
      "  File \"D:\\materials\\lab\\gitprjct\\Disaggregation\\scripts\\insd.py\", line 69, in insd\n",
      "    result = np.array([v.x for v in model.getVars()])\n",
      "  File \"D:\\materials\\lab\\gitprjct\\Disaggregation\\scripts\\insd.py\", line 69, in <listcomp>\n",
      "    result = np.array([v.x for v in model.getVars()])\n",
      "  File \"var.pxi\", line 76, in gurobipy.Var.__getattr__\n",
      "  File \"var.pxi\", line 142, in gurobipy.Var.getAttr\n",
      "AttributeError: b\"Unable to retrieve attribute 'x'\"\n",
      "\n"
     ]
    },
    {
     "data": {
      "text/plain": [
       "-1"
      ]
     },
     "execution_count": 24,
     "metadata": {},
     "output_type": "execute_result"
    }
   ],
   "source": [
    "#Эксперимент: дезаггрегация таблицы DET_2012 из таблицы SUM_2012\n",
    "#Бенчмарк: DET_2007\n",
    "#Ограничения: агрегированная таблица DET_2012 + итоги по строкам и столбцам\n",
    "#Метод: INSD\n",
    "\n",
    "\n",
    "\n",
    "result_sum_to_det = np.round(insd.insd(g_sum_w_totals, det_2007, true_sum_2012_with_totals, sparsed=True))\n",
    "result_sum_to_det\n",
    "# metrics.get_values(result_sum_to_det, det_2012)"
   ]
  },
  {
   "cell_type": "code",
   "execution_count": 25,
   "metadata": {
    "scrolled": true
   },
   "outputs": [
    {
     "name": "stdout",
     "output_type": "stream",
     "text": [
      "Parameter BarConvTol unchanged\n",
      "   Value: 1e-08  Min: 0.0  Max: 1.0  Default: 1e-08\n",
      "Parameter BarQCPConvTol unchanged\n",
      "   Value: 1e-06  Min: 0.0  Max: 1.0  Default: 1e-06\n",
      "Changed value of parameter DualReductions to 0\n",
      "   Prev: 1  Min: 0  Max: 1  Default: 1\n"
     ]
    },
    {
     "name": "stderr",
     "output_type": "stream",
     "text": [
      "ERROR:root:Traceback (most recent call last):\n",
      "  File \"D:\\materials\\lab\\gitprjct\\Disaggregation\\scripts\\kuroda.py\", line 116, in kuroda\n",
      "    result = np.array([v.x for v in model.getVars()])\n",
      "  File \"D:\\materials\\lab\\gitprjct\\Disaggregation\\scripts\\kuroda.py\", line 116, in <listcomp>\n",
      "    result = np.array([v.x for v in model.getVars()])\n",
      "  File \"var.pxi\", line 76, in gurobipy.Var.__getattr__\n",
      "  File \"var.pxi\", line 142, in gurobipy.Var.getAttr\n",
      "AttributeError: b\"Unable to retrieve attribute 'x'\"\n",
      "\n"
     ]
    },
    {
     "data": {
      "text/plain": [
       "-1"
      ]
     },
     "execution_count": 25,
     "metadata": {},
     "output_type": "execute_result"
    }
   ],
   "source": [
    "#Эксперимент: дезаггрегация таблицы DET_2012 из таблицы SUM_2012\n",
    "#Бенчмарк: DET_2007\n",
    "#Ограничения: таблица SUM_2012\n",
    "#Метод: Kuroda 1\n",
    "\n",
    "\n",
    "\n",
    "result_sum_to_det = np.round(kuroda.kuroda(g_to_sum, det_2007, sum_2012, mtype=1, sparsed=True))\n",
    "result_sum_to_det\n",
    "# metrics.get_values(result_sum_to_det, det_2012)"
   ]
  },
  {
   "cell_type": "code",
   "execution_count": 26,
   "metadata": {},
   "outputs": [
    {
     "name": "stdout",
     "output_type": "stream",
     "text": [
      "Parameter BarConvTol unchanged\n",
      "   Value: 1e-08  Min: 0.0  Max: 1.0  Default: 1e-08\n",
      "Parameter BarQCPConvTol unchanged\n",
      "   Value: 1e-06  Min: 0.0  Max: 1.0  Default: 1e-06\n",
      "Changed value of parameter DualReductions to 0\n",
      "   Prev: 1  Min: 0  Max: 1  Default: 1\n"
     ]
    },
    {
     "name": "stderr",
     "output_type": "stream",
     "text": [
      "ERROR:root:Traceback (most recent call last):\n",
      "  File \"D:\\materials\\lab\\gitprjct\\Disaggregation\\scripts\\kuroda.py\", line 116, in kuroda\n",
      "    result = np.array([v.x for v in model.getVars()])\n",
      "  File \"D:\\materials\\lab\\gitprjct\\Disaggregation\\scripts\\kuroda.py\", line 116, in <listcomp>\n",
      "    result = np.array([v.x for v in model.getVars()])\n",
      "  File \"var.pxi\", line 76, in gurobipy.Var.__getattr__\n",
      "  File \"var.pxi\", line 142, in gurobipy.Var.getAttr\n",
      "AttributeError: b\"Unable to retrieve attribute 'x'\"\n",
      "\n"
     ]
    },
    {
     "data": {
      "text/plain": [
       "-1"
      ]
     },
     "execution_count": 26,
     "metadata": {},
     "output_type": "execute_result"
    }
   ],
   "source": [
    "#Эксперимент: дезаггрегация таблицы DET_2012 из таблицы SUM_2012\n",
    "#Бенчмарк: DET_2007\n",
    "#Ограничения: агрегированная таблица DET_2012\n",
    "#Метод: Kuroda 1\n",
    "\n",
    "\n",
    "\n",
    "result_sum_to_det = np.round(kuroda.kuroda(g_to_sum, det_2007, true_sum_2012, mtype=1, sparsed=True))\n",
    "result_sum_to_det\n",
    "# metrics.get_values(result_sum_to_det, det_2012)"
   ]
  },
  {
   "cell_type": "code",
   "execution_count": 27,
   "metadata": {},
   "outputs": [
    {
     "name": "stdout",
     "output_type": "stream",
     "text": [
      "Parameter BarConvTol unchanged\n",
      "   Value: 1e-08  Min: 0.0  Max: 1.0  Default: 1e-08\n",
      "Parameter BarQCPConvTol unchanged\n",
      "   Value: 1e-06  Min: 0.0  Max: 1.0  Default: 1e-06\n",
      "Changed value of parameter DualReductions to 0\n",
      "   Prev: 1  Min: 0  Max: 1  Default: 1\n"
     ]
    },
    {
     "name": "stderr",
     "output_type": "stream",
     "text": [
      "ERROR:root:Traceback (most recent call last):\n",
      "  File \"D:\\materials\\lab\\gitprjct\\Disaggregation\\scripts\\kuroda.py\", line 116, in kuroda\n",
      "    result = np.array([v.x for v in model.getVars()])\n",
      "  File \"D:\\materials\\lab\\gitprjct\\Disaggregation\\scripts\\kuroda.py\", line 116, in <listcomp>\n",
      "    result = np.array([v.x for v in model.getVars()])\n",
      "  File \"var.pxi\", line 76, in gurobipy.Var.__getattr__\n",
      "  File \"var.pxi\", line 142, in gurobipy.Var.getAttr\n",
      "AttributeError: b\"Unable to retrieve attribute 'x'\"\n",
      "\n"
     ]
    },
    {
     "data": {
      "text/plain": [
       "-1"
      ]
     },
     "execution_count": 27,
     "metadata": {},
     "output_type": "execute_result"
    }
   ],
   "source": [
    "#Эксперимент: дезаггрегация таблицы DET_2012 из таблицы SUM_2012\n",
    "#Бенчмарк: DET_2007\n",
    "#Ограничения: таблица SUM_2012 + итоги по строкам и столбцам\n",
    "#Метод: Kuroda 1\n",
    "\n",
    "\n",
    "\n",
    "result_sum_to_det = np.round(kuroda.kuroda(g_sum_w_totals, det_2007, sum_2012_with_totals, mtype=1, sparsed=True))\n",
    "result_sum_to_det\n",
    "# metrics.get_values(result_sum_to_det, det_2012)"
   ]
  },
  {
   "cell_type": "code",
   "execution_count": 28,
   "metadata": {},
   "outputs": [
    {
     "name": "stdout",
     "output_type": "stream",
     "text": [
      "Parameter BarConvTol unchanged\n",
      "   Value: 1e-08  Min: 0.0  Max: 1.0  Default: 1e-08\n",
      "Parameter BarQCPConvTol unchanged\n",
      "   Value: 1e-06  Min: 0.0  Max: 1.0  Default: 1e-06\n",
      "Changed value of parameter DualReductions to 0\n",
      "   Prev: 1  Min: 0  Max: 1  Default: 1\n"
     ]
    },
    {
     "name": "stderr",
     "output_type": "stream",
     "text": [
      "ERROR:root:Traceback (most recent call last):\n",
      "  File \"D:\\materials\\lab\\gitprjct\\Disaggregation\\scripts\\kuroda.py\", line 116, in kuroda\n",
      "    result = np.array([v.x for v in model.getVars()])\n",
      "  File \"D:\\materials\\lab\\gitprjct\\Disaggregation\\scripts\\kuroda.py\", line 116, in <listcomp>\n",
      "    result = np.array([v.x for v in model.getVars()])\n",
      "  File \"var.pxi\", line 76, in gurobipy.Var.__getattr__\n",
      "  File \"var.pxi\", line 142, in gurobipy.Var.getAttr\n",
      "AttributeError: b\"Unable to retrieve attribute 'x'\"\n",
      "\n"
     ]
    },
    {
     "data": {
      "text/plain": [
       "-1"
      ]
     },
     "execution_count": 28,
     "metadata": {},
     "output_type": "execute_result"
    }
   ],
   "source": [
    "#Эксперимент: дезаггрегация таблицы DET_2012 из таблицы SUM_2012\n",
    "#Бенчмарк: DET_2007\n",
    "#Ограничения: агрегированная таблица DET_2012 + итоги по строкам и столбцам\n",
    "#Метод: Kuroda 1\n",
    "\n",
    "\n",
    "\n",
    "result_sum_to_det = np.round(kuroda.kuroda(g_sum_w_totals, det_2007, true_sum_2012_with_totals, mtype=1, sparsed=True))\n",
    "result_sum_to_det\n",
    "# metrics.get_values(result_sum_to_det, det_2012)"
   ]
  },
  {
   "cell_type": "code",
   "execution_count": 142,
   "metadata": {},
   "outputs": [
    {
     "name": "stdout",
     "output_type": "stream",
     "text": [
      "Parameter BarConvTol unchanged\n",
      "   Value: 1e-08  Min: 0.0  Max: 1.0  Default: 1e-08\n",
      "Parameter BarQCPConvTol unchanged\n",
      "   Value: 1e-06  Min: 0.0  Max: 1.0  Default: 1e-06\n",
      "Changed value of parameter DualReductions to 0\n",
      "   Prev: 1  Min: 0  Max: 1  Default: 1\n",
      "N0 1521\n",
      "PSISTAT 0.0427\n",
      "RSQ 0.95\n",
      "MAPE 13.6231\n",
      "SWAD 0.1043\n",
      "WAPE 26.693\n"
     ]
    }
   ],
   "source": [
    "ttls = v.addrows((405,405))\n",
    "ttls = v.addcolumns((405,405), ttls)\n",
    "\n",
    "tst = kuroda.kuroda(ttls, det_2007, totals_2012, 1)\n",
    "metrics.get_values(tst, det_2012)"
   ]
  },
  {
   "cell_type": "code",
   "execution_count": 151,
   "metadata": {},
   "outputs": [
    {
     "name": "stdout",
     "output_type": "stream",
     "text": [
      "Parameter BarConvTol unchanged\n",
      "   Value: 1e-08  Min: 0.0  Max: 1.0  Default: 1e-08\n",
      "Parameter BarQCPConvTol unchanged\n",
      "   Value: 1e-06  Min: 0.0  Max: 1.0  Default: 1e-06\n",
      "Parameter DualReductions unchanged\n",
      "   Value: 1  Min: 0  Max: 1  Default: 1\n",
      "N0 2314\n",
      "PSISTAT 0.0283\n",
      "RSQ 0.9758\n",
      "MAPE 12.4813\n",
      "SWAD 0.0644\n",
      "WAPE 20.5014\n"
     ]
    }
   ],
   "source": [
    "ttls = v.addrows((405,405))\n",
    "ttls = v.addcolumns((405,405), ttls)\n",
    "\n",
    "tst = insd(ttls, det_2007, totals_2012)\n",
    "metrics.get_values(tst, det_2012)"
   ]
  },
  {
   "cell_type": "code",
   "execution_count": null,
   "metadata": {
    "collapsed": true
   },
   "outputs": [],
   "source": []
  },
  {
   "cell_type": "code",
   "execution_count": null,
   "metadata": {
    "collapsed": true
   },
   "outputs": [],
   "source": []
  },
  {
   "cell_type": "code",
   "execution_count": null,
   "metadata": {
    "collapsed": true
   },
   "outputs": [],
   "source": []
  },
  {
   "cell_type": "code",
   "execution_count": 88,
   "metadata": {},
   "outputs": [
    {
     "name": "stdout",
     "output_type": "stream",
     "text": [
      "Parameter BarConvTol unchanged\n",
      "   Value: 1e-08  Min: 0.0  Max: 1.0  Default: 1e-08\n",
      "Parameter BarQCPConvTol unchanged\n",
      "   Value: 1e-06  Min: 0.0  Max: 1.0  Default: 1e-06\n",
      "Changed value of parameter DualReductions to 0\n",
      "   Prev: 1  Min: 0  Max: 1  Default: 1\n",
      "N0 1442\n",
      "PSISTAT 0.0338\n",
      "RSQ 0.9684\n",
      "MAPE 14.9635\n",
      "SWAD 0.066\n",
      "WAPE 23.218\n"
     ]
    }
   ],
   "source": [
    "from scripts.insd import insd as insd_original\n",
    "#Эксперимент: дезаггрегация таблицы DET_2012 из таблицы SUM_2012\n",
    "#Бенчмарк: DET_2007\n",
    "#Ограничения: агрегированная таблица DET_2012\n",
    "#Метод: INSD2\n",
    "\n",
    "\n",
    "\n",
    "result_sum_to_det = np.round(insd(aggregation.keys_to_g(left_sum, right_sum), det_2007, sum_2012, sparsed=False))\n",
    "result_sum_to_det\n",
    "metrics.get_values(result_sum_to_det, det_2012)"
   ]
  },
  {
   "cell_type": "code",
   "execution_count": 102,
   "metadata": {},
   "outputs": [
    {
     "name": "stdout",
     "output_type": "stream",
     "text": [
      "Parameter BarConvTol unchanged\n",
      "   Value: 1e-08  Min: 0.0  Max: 1.0  Default: 1e-08\n",
      "Parameter BarQCPConvTol unchanged\n",
      "   Value: 1e-06  Min: 0.0  Max: 1.0  Default: 1e-06\n",
      "Changed value of parameter DualReductions to 0\n",
      "   Prev: 1  Min: 0  Max: 1  Default: 1\n",
      "N0 1445\n",
      "PSISTAT 0.0338\n",
      "RSQ 0.9684\n",
      "MAPE 14.9675\n",
      "SWAD 0.066\n",
      "WAPE 23.2179\n"
     ]
    }
   ],
   "source": [
    "from scripts.insd import insd as insd_original\n",
    "#Эксперимент: дезаггрегация таблицы DET_2012 из таблицы SUM_2012\n",
    "#Бенчмарк: DET_2007\n",
    "#Ограничения: агрегированная таблица DET_2012\n",
    "#Метод: INSD2\n",
    "\n",
    "\n",
    "#_w_totals\n",
    "result_sum_to_det = np.round(insd(g_to_sum, det_2007, true_sum_2012_with_totals, sparsed=True))\n",
    "result_sum_to_det\n",
    "metrics.get_values(result_sum_to_det, det_2012)"
   ]
  },
  {
   "cell_type": "code",
   "execution_count": null,
   "metadata": {
    "collapsed": true
   },
   "outputs": [],
   "source": []
  },
  {
   "cell_type": "code",
   "execution_count": 257,
   "metadata": {},
   "outputs": [
    {
     "name": "stdout",
     "output_type": "stream",
     "text": [
      "Parameter BarConvTol unchanged\n",
      "   Value: 1e-08  Min: 0.0  Max: 1.0  Default: 1e-08\n",
      "Parameter BarQCPConvTol unchanged\n",
      "   Value: 1e-06  Min: 0.0  Max: 1.0  Default: 1e-06\n",
      "Parameter DualReductions unchanged\n",
      "   Value: 1  Min: 0  Max: 1  Default: 1\n"
     ]
    }
   ],
   "source": [
    "from scripts.kuroda import kuroda as kuroda_original\n",
    "\n",
    "\n",
    "#Эксперимент: дезаггрегация таблицы DET_2012 из таблицы SUM_2012\n",
    "#Бенчмарк: DET_2007\n",
    "#Ограничения: агрегированная таблица DET_2012\n",
    "#Метод: KURODA\n",
    "\n",
    "\n",
    "\n",
    "result_sum_to_det = np.round(kuroda(g_to_sum, det_2007, sum_2012, sparsed=True, mtype=3))\n",
    "result_sum_to_det\n",
    "metrics = metrics.get_values(result_sum_to_det, det_2012, save=True)\n"
   ]
  },
  {
   "cell_type": "code",
   "execution_count": 135,
   "metadata": {},
   "outputs": [],
   "source": [
    "from scripts import support, metrics, vectorization as v, aggregation\n",
    "def experiment(method_name, bench_matrix, origin_matrix, target_matrix, experiment_type, sparsed = True, save = True):\n",
    "    \"\"\"\n",
    "    Получение результата эксперимента\n",
    "\n",
    "    Parameters\n",
    "    ----------\n",
    "    method_name: string\n",
    "        метод для получения новой матрицы\n",
    "    bench_matrix: np.array или sparse матрица\n",
    "        бенчмарк таблица\n",
    "    origin_matrix: np.array или sparse матрица\n",
    "        оригинальная таблица\n",
    "    target_matrix: np.array или sparse матрица\n",
    "        целевая таблица\n",
    "    experiment_type: string\n",
    "        агрегация\\дезаггрегация\\нет\n",
    "    sparse: bool\n",
    "        использовать sparse матрицу или np.array\n",
    "    Returns\n",
    "    -------\n",
    "    a: float\n",
    "        значение метрики\n",
    "    \"\"\"\n",
    "    if experiment_type == 'дезаггрегация':\n",
    "        if sparsed:\n",
    "            g = g_to_sum\n",
    "        else:\n",
    "            g = aggregation.keys_to_g(left_sum, right_sum)\n",
    "    \n",
    "    # For Kuroda\n",
    "    if len(method_name.split('_')) > 1:\n",
    "        \n",
    "        method, mtype = method_name.split('_')\n",
    "        method = eval(method)\n",
    "        results = np.round(method(g, eval(bench_matrix), eval(origin_matrix), mtype=int(mtype), sparsed=sparsed))\n",
    "    else:\n",
    "        method = eval(method_name)\n",
    "        results = method(g, eval(bench_matrix), eval(origin_matrix), sparsed=sparsed)\n",
    "    metrics_values = metrics.get_values(np.round(results), eval(target_matrix), save=True)\n",
    "    \n",
    "    # Save metrics' results\n",
    "    if save:\n",
    "        info = {'method':method_name, 'experiment_type':experiment_type, 'target_matrix':target_matrix, \n",
    "                'origin_matrix':origin_matrix, 'bench_matrix':bench_matrix}\n",
    "        info = {**info,**metrics_values}\n",
    "\n",
    "        res_table = pd.read_excel('results/results.xlsx')\n",
    "        res_table = res_table.append([info])\n",
    "        res_table.to_excel('results/results.xlsx', index=None,encoding='utf-8')\n",
    "\n",
    "    return metrics_values \n"
   ]
  },
  {
   "cell_type": "code",
   "execution_count": 37,
   "metadata": {},
   "outputs": [
    {
     "name": "stdout",
     "output_type": "stream",
     "text": [
      "1\n"
     ]
    },
    {
     "data": {
      "text/plain": [
       "{'MAPE': 14.9614,\n",
       " 'N0': 1481,\n",
       " 'PSISTAT': 0.0338,\n",
       " 'RSQ': 0.9684,\n",
       " 'SWAD': 0.066,\n",
       " 'WAPE': 23.2184}"
      ]
     },
     "execution_count": 37,
     "metadata": {},
     "output_type": "execute_result"
    }
   ],
   "source": [
    "experiment('nras', 'det_2007', 'true_sum_2012', 'det_2012', 'дезаггрегация', True)"
   ]
  },
  {
   "cell_type": "code",
   "execution_count": 38,
   "metadata": {},
   "outputs": [
    {
     "name": "stdout",
     "output_type": "stream",
     "text": [
      "Parameter BarConvTol unchanged\n",
      "   Value: 1e-08  Min: 0.0  Max: 1.0  Default: 1e-08\n",
      "Parameter BarQCPConvTol unchanged\n",
      "   Value: 1e-06  Min: 0.0  Max: 1.0  Default: 1e-06\n",
      "Changed value of parameter DualReductions to 0\n",
      "   Prev: 1  Min: 0  Max: 1  Default: 1\n"
     ]
    },
    {
     "data": {
      "text/plain": [
       "{'MAPE': 14.9675,\n",
       " 'N0': 1445,\n",
       " 'PSISTAT': 0.0338,\n",
       " 'RSQ': 0.9684,\n",
       " 'SWAD': 0.066,\n",
       " 'WAPE': 23.2179}"
      ]
     },
     "execution_count": 38,
     "metadata": {},
     "output_type": "execute_result"
    }
   ],
   "source": [
    "experiment('insd', 'det_2007', 'true_sum_2012', 'det_2012', 'дезаггрегация', True)"
   ]
  },
  {
   "cell_type": "code",
   "execution_count": 95,
   "metadata": {},
   "outputs": [
    {
     "name": "stdout",
     "output_type": "stream",
     "text": [
      "Parameter BarConvTol unchanged\n",
      "   Value: 1e-08  Min: 0.0  Max: 1.0  Default: 1e-08\n",
      "Parameter BarQCPConvTol unchanged\n",
      "   Value: 1e-06  Min: 0.0  Max: 1.0  Default: 1e-06\n",
      "Parameter DualReductions unchanged\n",
      "   Value: 1  Min: 0  Max: 1  Default: 1\n"
     ]
    },
    {
     "data": {
      "text/plain": [
       "{'MAPE': 15.0569,\n",
       " 'N0': 1879,\n",
       " 'PSISTAT': 0.0339,\n",
       " 'RSQ': 0.9684,\n",
       " 'SWAD': 0.066,\n",
       " 'WAPE': 23.2346}"
      ]
     },
     "execution_count": 95,
     "metadata": {},
     "output_type": "execute_result"
    }
   ],
   "source": [
    "experiment('kuroda_3', 'det_2007', 'sum_2012', 'det_2012', 'дезаггрегация', sparsed = True)"
   ]
  },
  {
   "cell_type": "code",
   "execution_count": 139,
   "metadata": {},
   "outputs": [
    {
     "name": "stdout",
     "output_type": "stream",
     "text": [
      "Parameter BarConvTol unchanged\n",
      "   Value: 1e-08  Min: 0.0  Max: 1.0  Default: 1e-08\n",
      "Parameter BarQCPConvTol unchanged\n",
      "   Value: 1e-06  Min: 0.0  Max: 1.0  Default: 1e-06\n",
      "Parameter DualReductions unchanged\n",
      "   Value: 1  Min: 0  Max: 1  Default: 1\n"
     ]
    },
    {
     "data": {
      "text/plain": [
       "{'MAPE': 28.6641,\n",
       " 'N0': 9221,\n",
       " 'PSISTAT': 0.163,\n",
       " 'RSQ': 0.905,\n",
       " 'SWAD': 0.0869,\n",
       " 'WAPE': 40.5225}"
      ]
     },
     "execution_count": 139,
     "metadata": {},
     "output_type": "execute_result"
    }
   ],
   "source": [
    "experiment('kuroda_2', 'det_2007', 'sum_2012', 'det_2012', 'дезаггрегация', sparsed = True)"
   ]
  },
  {
   "cell_type": "code",
   "execution_count": 142,
   "metadata": {},
   "outputs": [
    {
     "name": "stdout",
     "output_type": "stream",
     "text": [
      "Parameter BarConvTol unchanged\n",
      "   Value: 1e-08  Min: 0.0  Max: 1.0  Default: 1e-08\n",
      "Parameter BarQCPConvTol unchanged\n",
      "   Value: 1e-06  Min: 0.0  Max: 1.0  Default: 1e-06\n",
      "Parameter DualReductions unchanged\n",
      "   Value: 1  Min: 0  Max: 1  Default: 1\n"
     ]
    },
    {
     "data": {
      "text/plain": [
       "{'MAPE': 14.9871,\n",
       " 'N0': 1458,\n",
       " 'PSISTAT': 0.0338,\n",
       " 'RSQ': 0.9684,\n",
       " 'SWAD': 0.066,\n",
       " 'WAPE': 23.2236}"
      ]
     },
     "execution_count": 142,
     "metadata": {},
     "output_type": "execute_result"
    }
   ],
   "source": [
    "from scripts.kuroda import kuroda as kurodaoriginal\n",
    "experiment('kurodaoriginal_2', 'det_2007', 'sum_2012', 'det_2012', 'дезаггрегация', sparsed = False, save=False)"
   ]
  },
  {
   "cell_type": "code",
   "execution_count": 141,
   "metadata": {},
   "outputs": [
    {
     "name": "stdout",
     "output_type": "stream",
     "text": [
      "Parameter BarConvTol unchanged\n",
      "   Value: 1e-08  Min: 0.0  Max: 1.0  Default: 1e-08\n",
      "Parameter BarQCPConvTol unchanged\n",
      "   Value: 1e-06  Min: 0.0  Max: 1.0  Default: 1e-06\n",
      "Parameter DualReductions unchanged\n",
      "   Value: 1  Min: 0  Max: 1  Default: 1\n"
     ]
    },
    {
     "data": {
      "text/plain": [
       "{'MAPE': 14.9823,\n",
       " 'N0': 1447,\n",
       " 'PSISTAT': 0.0338,\n",
       " 'RSQ': 0.9684,\n",
       " 'SWAD': 0.066,\n",
       " 'WAPE': 23.2231}"
      ]
     },
     "execution_count": 141,
     "metadata": {},
     "output_type": "execute_result"
    }
   ],
   "source": [
    "experiment('kuroda_1', 'det_2007', 'sum_2012', 'det_2012', 'дезаггрегация', sparsed = False)"
   ]
  },
  {
   "cell_type": "code",
   "execution_count": null,
   "metadata": {
    "collapsed": true
   },
   "outputs": [],
   "source": []
  }
 ],
 "metadata": {
  "kernelspec": {
   "display_name": "Python 3",
   "language": "python",
   "name": "python3"
  },
  "language_info": {
   "codemirror_mode": {
    "name": "ipython",
    "version": 3
   },
   "file_extension": ".py",
   "mimetype": "text/x-python",
   "name": "python",
   "nbconvert_exporter": "python",
   "pygments_lexer": "ipython3",
   "version": "3.6.9"
  },
  "pycharm": {
   "stem_cell": {
    "cell_type": "raw",
    "metadata": {
     "collapsed": false
    },
    "source": []
   }
  }
 },
 "nbformat": 4,
 "nbformat_minor": 1
}
