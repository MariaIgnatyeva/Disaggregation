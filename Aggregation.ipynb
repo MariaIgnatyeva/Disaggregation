{
 "cells": [
  {
   "cell_type": "code",
   "execution_count": 1,
   "metadata": {
    "pycharm": {
     "is_executing": false,
     "name": "#%%\n"
    }
   },
   "outputs": [],
   "source": [
    "from scripts import support, insd, kuroda, nras, metrics, vectorization as v\n",
    "import numpy as np\n",
    "import pandas as pd\n",
    "import matplotlib.pyplot as plt\n",
    "import sys\n",
    "from scipy.sparse import csr_matrix\n",
    "# np.set_printoptions(threshold=sys.maxsize)"
   ]
  },
  {
   "cell_type": "code",
   "execution_count": 2,
   "metadata": {
    "pycharm": {
     "name": "#%%\n"
    }
   },
   "outputs": [],
   "source": [
    "df = pd.read_excel(\"./data/Use_SUT_Framework_2007_2012_DET.xlsx\", \"NAICS Codes\", skiprows=4)\n",
    "df = df.iloc[:-6,:-1]\n",
    "df = df.dropna(axis=0, how = 'all')\n",
    "df = df.fillna(0)\n",
    "arr = np.array(df)"
   ]
  },
  {
   "cell_type": "code",
   "execution_count": 3,
   "metadata": {
    "pycharm": {
     "name": "#%%\n"
    }
   },
   "outputs": [],
   "source": [
    "sectr = np.zeros(23)\n",
    "sumsr = np.zeros(73)\n",
    "secir = -1\n",
    "sumsir = -1\n",
    "\n",
    "\n",
    "\n",
    "for i in arr:\n",
    "    \n",
    "    \n",
    "    if i[0] != 0 and i[1] != 0 and i[2] == 0 and i[3] == 0:\n",
    "        secir = secir + 1\n",
    "        \n",
    "    if i[0] == 0 and i[1] != 0 and i[2] != 0 and i[3] == 0:\n",
    "        sumsir = sumsir + 1\n",
    "        \n",
    "    if i[0] == 0 and i[1] == 0 and i[2] == 0 and i[3] != 0 and i[4] != 0 and i[5] != '**' and i[5] != '‡':\n",
    "        sectr[secir]+=1\n",
    "        sumsr[sumsir]+=1\n",
    "        \n",
    "        \n",
    "\n",
    "sectc = np.zeros(23)\n",
    "sumsc = np.zeros(73)\n",
    "secic = -1\n",
    "sumsic = -1\n",
    "\n",
    "\n",
    "\n",
    "for i in arr:\n",
    "    if i[0] != 0 and i[1] != 0 and i[2] == 0 and i[3] == 0:\n",
    "        secic = secic + 1\n",
    "        \n",
    "    if i[0] == 0 and i[1] != 0 and i[2] != 0 and i[3] == 0:\n",
    "        sumsic = sumsic + 1\n",
    "        \n",
    "    if i[0] == 0 and i[1] == 0 and i[2] == 0 and i[3] != 0 and i[4] != 0 and i[5] != '††':\n",
    "        sectc[secic]+=1\n",
    "        sumsc[sumsic]+=1\n",
    "        \n",
    "        \n",
    "sumsc = sumsc[sumsc != 0]\n",
    "sectc = sectc[sectc != 0]\n",
    "sumsc[[51,52]] = sumsc[[52,51]]\n",
    "sumsr[[51,52]] = sumsr[[52,51]]"
   ]
  },
  {
   "cell_type": "code",
   "execution_count": 4,
   "metadata": {
    "pycharm": {
     "name": "#%%\n"
    }
   },
   "outputs": [
    {
     "data": {
      "text/plain": [
       "3.0"
      ]
     },
     "execution_count": 4,
     "metadata": {},
     "output_type": "execute_result"
    }
   ],
   "source": [
    "sumsc[51]"
   ]
  },
  {
   "cell_type": "code",
   "execution_count": 5,
   "metadata": {
    "pycharm": {
     "name": "#%%\n"
    }
   },
   "outputs": [],
   "source": [
    "def make_keym(big, smol, key):\n",
    "    step = 0\n",
    "    keym = np.zeros([smol, big])\n",
    "    for k in range(len(key)):\n",
    "        for i in range(int(key[k])):\n",
    "            keym[k][step + i] = 1\n",
    "        step += int(key[k])\n",
    "    return keym"
   ]
  },
  {
   "cell_type": "code",
   "execution_count": 6,
   "metadata": {
    "pycharm": {
     "name": "#%%\n"
    }
   },
   "outputs": [],
   "source": [
    "tr = make_keym(405, 73, sumsr)\n",
    "tc = make_keym(405, 71, sumsc)"
   ]
  },
  {
   "cell_type": "code",
   "execution_count": 7,
   "metadata": {
    "pycharm": {
     "name": "#%%\n"
    }
   },
   "outputs": [],
   "source": [
    "dff = pd.read_excel(\"./data/Use_SUT_Framework_2007_2012_DET.xlsx\", \"2007\")\n",
    "dff = dff.iloc[5:-11,2:-21]\n",
    "dff = dff.fillna(0)\n",
    "old = np.array(dff)\n",
    "old[[402, 404]] = old[[404, 402]]\n",
    "old[[401, 403]] = old[[403, 401]]"
   ]
  },
  {
   "cell_type": "code",
   "execution_count": 8,
   "metadata": {
    "pycharm": {
     "name": "#%%\n"
    }
   },
   "outputs": [
    {
     "data": {
      "text/plain": [
       "(405, 405)"
      ]
     },
     "execution_count": 8,
     "metadata": {},
     "output_type": "execute_result"
    }
   ],
   "source": [
    "np.shape(dff)"
   ]
  },
  {
   "cell_type": "code",
   "execution_count": 9,
   "metadata": {
    "pycharm": {
     "name": "#%%\n"
    }
   },
   "outputs": [],
   "source": [
    "res = tr @ old @ tc.T"
   ]
  },
  {
   "cell_type": "code",
   "execution_count": 10,
   "metadata": {
    "pycharm": {
     "name": "#%%\n"
    }
   },
   "outputs": [
    {
     "data": {
      "text/plain": [
       "(73, 71)"
      ]
     },
     "execution_count": 10,
     "metadata": {},
     "output_type": "execute_result"
    }
   ],
   "source": [
    "np.shape(res)"
   ]
  },
  {
   "cell_type": "code",
   "execution_count": 11,
   "metadata": {},
   "outputs": [
    {
     "data": {
      "text/plain": [
       "(73, 71)"
      ]
     },
     "execution_count": 11,
     "metadata": {},
     "output_type": "execute_result"
    }
   ],
   "source": [
    "tru = pd.read_excel(\"./data/Use_SUT_Framework_1997-2017_SUM.xlsx\", \"2007\")\n",
    "tru = tru.iloc[6:-9,2:-21]\n",
    "tru = tru.fillna(0)\n",
    "truarr = np.array(tru)\n",
    "truarr = np.where(truarr=='...', 0, truarr)\n",
    "np.shape(truarr)"
   ]
  },
  {
   "cell_type": "code",
   "execution_count": 12,
   "metadata": {},
   "outputs": [
    {
     "name": "stdout",
     "output_type": "stream",
     "text": [
      "N0 2\n",
      "PSISTAT 0.0\n",
      "RSQ 1.0\n",
      "MAPE 0.4025\n",
      "SWAD 0.0\n",
      "WAPE 0.0178\n"
     ]
    }
   ],
   "source": [
    "metrics.get_values(res.astype(float), truarr.astype(float))"
   ]
  },
  {
   "cell_type": "code",
   "execution_count": 13,
   "metadata": {},
   "outputs": [],
   "source": [
    "def keys_to_g(left, right):\n",
    "    \n",
    "    m = len(left)\n",
    "    M = len(left[0])\n",
    "    n = len(right)\n",
    "    N = len(right[0])\n",
    "    \n",
    "    g = np.zeros([m*n, M*N])\n",
    "    \n",
    "    for i in range(n):\n",
    "        for j in range(N):\n",
    "            if right[i][j]:\n",
    "                g[i*m:(i+1)*m, j*M:(j+1)*M] = left\n",
    "                \n",
    "    return g"
   ]
  },
  {
   "cell_type": "code",
   "execution_count": 14,
   "metadata": {},
   "outputs": [],
   "source": [
    "g = keys_to_g(tr, tc)"
   ]
  },
  {
   "cell_type": "code",
   "execution_count": 15,
   "metadata": {},
   "outputs": [
    {
     "data": {
      "text/plain": [
       "array([[1., 1., 1., ..., 0., 0., 0.],\n",
       "       [0., 0., 0., ..., 0., 0., 0.],\n",
       "       [0., 0., 0., ..., 0., 0., 0.],\n",
       "       ...,\n",
       "       [0., 0., 0., ..., 0., 0., 0.],\n",
       "       [0., 0., 0., ..., 1., 0., 0.],\n",
       "       [0., 0., 0., ..., 0., 1., 1.]])"
      ]
     },
     "execution_count": 15,
     "metadata": {},
     "output_type": "execute_result"
    }
   ],
   "source": [
    "g"
   ]
  },
  {
   "cell_type": "code",
   "execution_count": 16,
   "metadata": {},
   "outputs": [],
   "source": [
    "a = v.tovector(old)\n",
    "b = v.tovector(truarr)"
   ]
  },
  {
   "cell_type": "code",
   "execution_count": 17,
   "metadata": {},
   "outputs": [],
   "source": [
    "ress = g @ a"
   ]
  },
  {
   "cell_type": "code",
   "execution_count": 18,
   "metadata": {},
   "outputs": [
    {
     "name": "stdout",
     "output_type": "stream",
     "text": [
      "N0 2\n",
      "PSISTAT 0.0\n",
      "RSQ 1.0\n",
      "MAPE 0.4025\n",
      "SWAD 0.0\n",
      "WAPE 0.0178\n"
     ]
    }
   ],
   "source": [
    "metrics.get_values(ress.astype(float), b.astype(float))"
   ]
  },
  {
   "cell_type": "code",
   "execution_count": 19,
   "metadata": {
    "scrolled": true
   },
   "outputs": [
    {
     "data": {
      "text/plain": [
       "array([[2687,  153,    8, ...,    0,    0,    0],\n",
       "       [   0, 3113,    0, ...,    0,    0,    0],\n",
       "       [   0,    0, 1151, ...,    0,    0,    0],\n",
       "       ...,\n",
       "       [   0,    0,    0, ...,    0,    0,    0],\n",
       "       [   0,    0,    0, ...,    0,    0,    0],\n",
       "       [   0,    0,    0, ...,    0,    0,    0]], dtype=int64)"
      ]
     },
     "execution_count": 19,
     "metadata": {},
     "output_type": "execute_result"
    }
   ],
   "source": [
    "bench = pd.read_excel(\"./data/Use_SUT_Framework_2007_2012_DET.xlsx\", \"2007\")\n",
    "bench = bench.iloc[5:-11,2:-21]\n",
    "bench = bench.fillna(0)\n",
    "bencharr = np.array(bench)\n",
    "bencharr[[402, 404]] = bencharr[[404, 402]]\n",
    "bencharr[[401, 403]] = bencharr[[403, 401]]\n",
    "bencharr"
   ]
  },
  {
   "cell_type": "code",
   "execution_count": 20,
   "metadata": {},
   "outputs": [
    {
     "data": {
      "text/plain": [
       "array([[2507,  145,    4, ...,    0,    0,    0],\n",
       "       [   0, 7731,    0, ...,    0,    0,    0],\n",
       "       [   0,    0,  909, ...,    0,    0,    0],\n",
       "       ...,\n",
       "       [   0,    0,    0, ...,    0,    0,    0],\n",
       "       [   0,    0,    0, ...,    0,    0,    0],\n",
       "       [   0,    0,    0, ...,    0,    0,    0]], dtype=int64)"
      ]
     },
     "execution_count": 20,
     "metadata": {},
     "output_type": "execute_result"
    }
   ],
   "source": [
    "real12 = pd.read_excel(\"./data/Use_SUT_Framework_2007_2012_DET.xlsx\", \"2012\")\n",
    "real12 = real12.iloc[5:-11,2:-21]\n",
    "real12 = real12.fillna(0)\n",
    "real12arr = np.array(real12)\n",
    "real12arr[[402, 404]] = real12arr[[404, 402]]\n",
    "real12arr[[401, 403]] = real12arr[[403, 401]]\n",
    "real12arr"
   ]
  },
  {
   "cell_type": "code",
   "execution_count": 21,
   "metadata": {},
   "outputs": [
    {
     "data": {
      "text/plain": [
       "array([[ 6.8986e+04,  8.4700e+02,  0.0000e+00, ...,  0.0000e+00,\n",
       "         3.9650e+03,  0.0000e+00],\n",
       "       [ 2.1846e+04,  5.9930e+03,  0.0000e+00, ...,  9.0000e+00,\n",
       "         3.4450e+03,  0.0000e+00],\n",
       "       [ 0.0000e+00,  0.0000e+00,  3.6344e+04, ...,  1.3770e+03,\n",
       "         0.0000e+00,  2.0833e+04],\n",
       "       ...,\n",
       "       [ 0.0000e+00,  3.0000e+00,  0.0000e+00, ...,  2.3900e+02,\n",
       "         3.8820e+03,  9.7500e+02],\n",
       "       [ 9.3100e+02,  5.8000e+01,  1.1620e+03, ...,  1.0610e+03,\n",
       "         0.0000e+00,  0.0000e+00],\n",
       "       [-5.0000e+01,  4.0000e+01,  0.0000e+00, ...,  0.0000e+00,\n",
       "         0.0000e+00,  0.0000e+00]])"
      ]
     },
     "execution_count": 21,
     "metadata": {},
     "output_type": "execute_result"
    }
   ],
   "source": [
    "# constr = pd.read_excel(\"./data/Use_SUT_Framework_1997-2017_SUM.xlsx\", \"2012\")\n",
    "# constr = constr.iloc[6:-9,2:-21]\n",
    "# constr = constr.fillna(0)\n",
    "# constrarr = np.array(constr)\n",
    "# constrarr = np.where(constrarr=='...', 0, constrarr).astype(float)\n",
    "# constrarr\n",
    "\n",
    "constrarr = tr @ real12arr @ tc.T\n",
    "constrarr"
   ]
  },
  {
   "cell_type": "code",
   "execution_count": 22,
   "metadata": {},
   "outputs": [],
   "source": [
    "benchv = v.tovector(bencharr).astype(float)\n",
    "constrv = v.tovector(constrarr).astype(float)\n",
    "real12v = v.tovector(real12arr).astype(float)"
   ]
  },
  {
   "cell_type": "code",
   "execution_count": 23,
   "metadata": {},
   "outputs": [
    {
     "data": {
      "text/plain": [
       "array([12989788.])"
      ]
     },
     "execution_count": 23,
     "metadata": {},
     "output_type": "execute_result"
    }
   ],
   "source": [
    "sum(constrv)"
   ]
  },
  {
   "cell_type": "code",
   "execution_count": 24,
   "metadata": {},
   "outputs": [],
   "source": [
    "sums_rows = np.sum(real12arr, axis=1)[np.newaxis].T\n",
    "sums_columns = np.sum(real12arr, axis=0)[np.newaxis].T"
   ]
  },
  {
   "cell_type": "code",
   "execution_count": 25,
   "metadata": {},
   "outputs": [
    {
     "data": {
      "text/plain": [
       "(405, 1)"
      ]
     },
     "execution_count": 25,
     "metadata": {},
     "output_type": "execute_result"
    }
   ],
   "source": [
    "np.shape(sums_rows)"
   ]
  },
  {
   "cell_type": "code",
   "execution_count": 26,
   "metadata": {},
   "outputs": [
    {
     "name": "stdout",
     "output_type": "stream",
     "text": [
      "1\n",
      "Academic license - for non-commercial use only\n",
      "Parameter BarConvTol unchanged\n",
      "   Value: 1e-08  Min: 0.0  Max: 1.0  Default: 1e-08\n",
      "Parameter BarQCPConvTol unchanged\n",
      "   Value: 1e-06  Min: 0.0  Max: 1.0  Default: 1e-06\n",
      "Changed value of parameter DualReductions to 0\n",
      "   Prev: 1  Min: 0  Max: 1  Default: 1\n"
     ]
    },
    {
     "name": "stderr",
     "output_type": "stream",
     "text": [
      "ERROR:root:Traceback (most recent call last):\n",
      "  File \"D:\\materials\\lab\\gitprjct\\Disaggregation\\scripts\\insd.py\", line 69, in insd\n",
      "    result = np.array([v.x for v in model.getVars()])\n",
      "  File \"D:\\materials\\lab\\gitprjct\\Disaggregation\\scripts\\insd.py\", line 69, in <listcomp>\n",
      "    result = np.array([v.x for v in model.getVars()])\n",
      "  File \"var.pxi\", line 76, in gurobipy.Var.__getattr__\n",
      "  File \"var.pxi\", line 142, in gurobipy.Var.getAttr\n",
      "AttributeError: b\"Unable to retrieve attribute 'x'\"\n",
      "\n"
     ]
    }
   ],
   "source": [
    "my12nr = nras.nras(g, benchv, constrv, 0.01, 500)\n",
    "my12in = insd.insd(g, benchv, constrv)"
   ]
  },
  {
   "cell_type": "code",
   "execution_count": 27,
   "metadata": {},
   "outputs": [
    {
     "data": {
      "text/plain": [
       "array([[4048,  230,   12, ...,    0,    0,    0],\n",
       "       [   0, 4689,    0, ...,    0,    0,    0],\n",
       "       [   0,    0, 1734, ...,    0,    0,    0],\n",
       "       ...,\n",
       "       [   0,    0,    0, ...,    0,    0,    0],\n",
       "       [   0,    0,    0, ...,    0,    0,    0],\n",
       "       [   0,    0,    0, ...,    0,    0,    0]])"
      ]
     },
     "execution_count": 27,
     "metadata": {},
     "output_type": "execute_result"
    }
   ],
   "source": [
    "v.tomatrix(my12nr).astype(int)"
   ]
  },
  {
   "cell_type": "code",
   "execution_count": null,
   "metadata": {},
   "outputs": [],
   "source": []
  },
  {
   "cell_type": "code",
   "execution_count": 28,
   "metadata": {},
   "outputs": [
    {
     "data": {
      "text/plain": [
       "-1"
      ]
     },
     "execution_count": 28,
     "metadata": {},
     "output_type": "execute_result"
    }
   ],
   "source": [
    "my12in"
   ]
  },
  {
   "cell_type": "code",
   "execution_count": 29,
   "metadata": {},
   "outputs": [
    {
     "data": {
      "text/plain": [
       "(5993, 1)"
      ]
     },
     "execution_count": 29,
     "metadata": {},
     "output_type": "execute_result"
    }
   ],
   "source": [
    "moreconstrv = np.append(constrv, sums_rows, axis=0)\n",
    "moreconstrv = np.append(moreconstrv, sums_columns, axis=0)\n",
    "np.shape(moreconstrv)"
   ]
  },
  {
   "cell_type": "code",
   "execution_count": 30,
   "metadata": {},
   "outputs": [
    {
     "data": {
      "text/plain": [
       "(5993, 164025)"
      ]
     },
     "execution_count": 30,
     "metadata": {},
     "output_type": "execute_result"
    }
   ],
   "source": [
    "sg = csr_matrix(g)\n",
    "mg = v.addrows((405,405), sg, sparsed=True)\n",
    "mg = v.addcolumns((405,405), mg, sparsed=True)\n",
    "np.shape(mg)"
   ]
  },
  {
   "cell_type": "code",
   "execution_count": 31,
   "metadata": {},
   "outputs": [
    {
     "data": {
      "text/plain": [
       "(5183, 164025)"
      ]
     },
     "execution_count": 31,
     "metadata": {},
     "output_type": "execute_result"
    }
   ],
   "source": [
    "np.shape(sg)"
   ]
  },
  {
   "cell_type": "code",
   "execution_count": 32,
   "metadata": {},
   "outputs": [
    {
     "data": {
      "text/plain": [
       "array([     0,      1,      2, ..., 164022, 164023, 164024], dtype=int32)"
      ]
     },
     "execution_count": 32,
     "metadata": {},
     "output_type": "execute_result"
    }
   ],
   "source": [
    "mg.indices"
   ]
  },
  {
   "cell_type": "code",
   "execution_count": 33,
   "metadata": {},
   "outputs": [
    {
     "data": {
      "text/plain": [
       "<5993x164025 sparse matrix of type '<class 'numpy.float64'>'\n",
       "\twith 492075 stored elements in Compressed Sparse Row format>"
      ]
     },
     "execution_count": 33,
     "metadata": {},
     "output_type": "execute_result"
    }
   ],
   "source": [
    "mg"
   ]
  },
  {
   "cell_type": "code",
   "execution_count": 34,
   "metadata": {},
   "outputs": [
    {
     "data": {
      "text/plain": [
       "<matplotlib.lines.Line2D at 0x221afe7ce10>"
      ]
     },
     "execution_count": 34,
     "metadata": {},
     "output_type": "execute_result"
    },
    {
     "data": {
      "image/png": "[encoded data removed]",
      "text/plain": [
       "<Figure size 432x288 with 1 Axes>"
      ]
     },
     "metadata": {
      "needs_background": "light"
     },
     "output_type": "display_data"
    }
   ],
   "source": [
    "plt.spy(mg, aspect='auto')"
   ]
  },
  {
   "cell_type": "code",
   "execution_count": 35,
   "metadata": {},
   "outputs": [
    {
     "data": {
      "text/plain": [
       "(5993, 164025)"
      ]
     },
     "execution_count": 35,
     "metadata": {},
     "output_type": "execute_result"
    }
   ],
   "source": [
    "np.shape(mg)"
   ]
  },
  {
   "cell_type": "code",
   "execution_count": 36,
   "metadata": {},
   "outputs": [
    {
     "data": {
      "text/plain": [
       "(5993, 1)"
      ]
     },
     "execution_count": 36,
     "metadata": {},
     "output_type": "execute_result"
    }
   ],
   "source": [
    "np.shape(moreconstrv)"
   ]
  },
  {
   "cell_type": "code",
   "execution_count": 37,
   "metadata": {},
   "outputs": [
    {
     "name": "stdout",
     "output_type": "stream",
     "text": [
      "100\n"
     ]
    }
   ],
   "source": [
    "my12morenr = nras.nras(G=mg,aa= benchv, c=moreconstrv, accuracy=0.01,limit= 100, sparsed=True)"
   ]
  },
  {
   "cell_type": "code",
   "execution_count": 38,
   "metadata": {},
   "outputs": [
    {
     "data": {
      "text/plain": [
       "array([[1., 1., 1., ..., 0., 0., 0.],\n",
       "       [0., 0., 0., ..., 0., 0., 0.],\n",
       "       [0., 0., 0., ..., 0., 0., 0.],\n",
       "       ...,\n",
       "       [0., 0., 0., ..., 0., 0., 0.],\n",
       "       [0., 0., 0., ..., 0., 0., 0.],\n",
       "       [0., 0., 0., ..., 1., 1., 1.]])"
      ]
     },
     "execution_count": 38,
     "metadata": {},
     "output_type": "execute_result"
    }
   ],
   "source": [
    "mg.toarray()"
   ]
  },
  {
   "cell_type": "code",
   "execution_count": 39,
   "metadata": {},
   "outputs": [
    {
     "data": {
      "text/plain": [
       "array([[3198,  168,    4, ...,    0,    0,    0],\n",
       "       [   0, 8237,    0, ...,    0,    0,    0],\n",
       "       [   0,    0, 1089, ...,    0,    0,    0],\n",
       "       ...,\n",
       "       [   0,    0,    0, ...,    0,    0,    0],\n",
       "       [   0,    0,    0, ...,    0,    0,    0],\n",
       "       [   0,    0,    0, ...,    0,    0,    0]])"
      ]
     },
     "execution_count": 39,
     "metadata": {},
     "output_type": "execute_result"
    }
   ],
   "source": [
    "v.tomatrix(my12morenr).astype(int)"
   ]
  },
  {
   "cell_type": "code",
   "execution_count": 40,
   "metadata": {},
   "outputs": [
    {
     "name": "stdout",
     "output_type": "stream",
     "text": [
      "Parameter BarConvTol unchanged\n",
      "   Value: 1e-08  Min: 0.0  Max: 1.0  Default: 1e-08\n",
      "Parameter BarQCPConvTol unchanged\n",
      "   Value: 1e-06  Min: 0.0  Max: 1.0  Default: 1e-06\n",
      "Changed value of parameter DualReductions to 0\n",
      "   Prev: 1  Min: 0  Max: 1  Default: 1\n"
     ]
    },
    {
     "name": "stderr",
     "output_type": "stream",
     "text": [
      "ERROR:root:Traceback (most recent call last):\n",
      "  File \"D:\\materials\\lab\\gitprjct\\Disaggregation\\scripts\\insd.py\", line 69, in insd\n",
      "    result = np.array([v.x for v in model.getVars()])\n",
      "  File \"D:\\materials\\lab\\gitprjct\\Disaggregation\\scripts\\insd.py\", line 69, in <listcomp>\n",
      "    result = np.array([v.x for v in model.getVars()])\n",
      "  File \"var.pxi\", line 76, in gurobipy.Var.__getattr__\n",
      "  File \"var.pxi\", line 142, in gurobipy.Var.getAttr\n",
      "AttributeError: b\"Unable to retrieve attribute 'x'\"\n",
      "\n"
     ]
    }
   ],
   "source": [
    "my12morein = insd.insd(G=mg, aa=benchv, c=moreconstrv, sparsed=True)"
   ]
  },
  {
   "cell_type": "code",
   "execution_count": 41,
   "metadata": {},
   "outputs": [
    {
     "data": {
      "text/plain": [
       "<matplotlib.image.AxesImage at 0x22357964a20>"
      ]
     },
     "execution_count": 41,
     "metadata": {},
     "output_type": "execute_result"
    },
    {
     "data": {
      "image/png": "[encoded data removed]",
      "text/plain": [
       "<Figure size 432x288 with 1 Axes>"
      ]
     },
     "metadata": {
      "needs_background": "light"
     },
     "output_type": "display_data"
    }
   ],
   "source": [
    "gg = v.addrows((405,405))\n",
    "gg = v.addcolumns((405,405), gg)\n",
    "plt.spy(gg, aspect='auto')"
   ]
  },
  {
   "cell_type": "code",
   "execution_count": 43,
   "metadata": {},
   "outputs": [],
   "source": [
    "cc = np.append(sums_rows, sums_columns, axis=0)"
   ]
  },
  {
   "cell_type": "code",
   "execution_count": 56,
   "metadata": {},
   "outputs": [
    {
     "name": "stdout",
     "output_type": "stream",
     "text": [
      "67\n"
     ]
    }
   ],
   "source": [
    "tstnr = nras.nras(gg, benchv, cc, 0.01, 100)"
   ]
  },
  {
   "cell_type": "code",
   "execution_count": 57,
   "metadata": {},
   "outputs": [
    {
     "data": {
      "text/plain": [
       "array([[3425,  182,    4, ...,    0,    0,    0],\n",
       "       [   0, 9042,    0, ...,    0,    0,    0],\n",
       "       [   0,    0, 1105, ...,    0,    0,    0],\n",
       "       ...,\n",
       "       [   0,    0,    0, ...,    0,    0,    0],\n",
       "       [   0,    0,    0, ...,    0,    0,    0],\n",
       "       [   0,    0,    0, ...,    0,    0,    0]])"
      ]
     },
     "execution_count": 57,
     "metadata": {},
     "output_type": "execute_result"
    }
   ],
   "source": [
    "v.tomatrix(tstnr).astype(int)"
   ]
  },
  {
   "cell_type": "code",
   "execution_count": 58,
   "metadata": {},
   "outputs": [
    {
     "name": "stdout",
     "output_type": "stream",
     "text": [
      "N0 2312\n",
      "PSISTAT 0.0261\n",
      "RSQ 0.9973\n",
      "MAPE 12.0241\n",
      "SWAD 0.9854\n",
      "WAPE 19.5828\n"
     ]
    }
   ],
   "source": [
    "metrics.get_values(tstnr.astype(int), real12v.astype(int))"
   ]
  },
  {
   "cell_type": "code",
   "execution_count": 59,
   "metadata": {},
   "outputs": [
    {
     "data": {
      "text/plain": [
       "15.52217361148771"
      ]
     },
     "execution_count": 59,
     "metadata": {},
     "output_type": "execute_result"
    }
   ],
   "source": [
    "np.mean(abs(real12v - tstnr))"
   ]
  },
  {
   "cell_type": "code",
   "execution_count": 97,
   "metadata": {},
   "outputs": [
    {
     "data": {
      "text/plain": [
       "array([15])"
      ]
     },
     "execution_count": 97,
     "metadata": {},
     "output_type": "execute_result"
    }
   ],
   "source": [
    "sum(real12v < 0)"
   ]
  },
  {
   "cell_type": "code",
   "execution_count": 110,
   "metadata": {},
   "outputs": [],
   "source": [
    "chiselka = min(benchv)# min(real12v))\n",
    "chiselka = abs(chiselka)\n",
    "mbenchv = benchv + chiselka\n",
    "mcc = cc + chiselka * 405"
   ]
  },
  {
   "cell_type": "code",
   "execution_count": null,
   "metadata": {},
   "outputs": [],
   "source": []
  },
  {
   "cell_type": "code",
   "execution_count": 111,
   "metadata": {},
   "outputs": [
    {
     "name": "stdout",
     "output_type": "stream",
     "text": [
      "Parameter BarConvTol unchanged\n",
      "   Value: 1e-08  Min: 0.0  Max: 1.0  Default: 1e-08\n",
      "Parameter BarQCPConvTol unchanged\n",
      "   Value: 1e-06  Min: 0.0  Max: 1.0  Default: 1e-06\n",
      "Changed value of parameter DualReductions to 0\n",
      "   Prev: 1  Min: 0  Max: 1  Default: 1\n"
     ]
    }
   ],
   "source": [
    "tstin = insd.insd(gg, mbenchv, mcc)"
   ]
  },
  {
   "cell_type": "code",
   "execution_count": 113,
   "metadata": {},
   "outputs": [
    {
     "data": {
      "text/plain": [
       "array([[2894.,  237.,   19., ...,   40.,   46.,   52.],\n",
       "       [ 113., 4270.,   94., ...,  123.,  129.,  136.],\n",
       "       [  11.,   44., 1125., ...,   21.,   27.,   34.],\n",
       "       ...,\n",
       "       [   8.,   41.,  -11., ...,   18.,   24.,   31.],\n",
       "       [  18.,   52.,    0., ...,   29.,   35.,   41.],\n",
       "       [  49.,   82.,   30., ...,   59.,   65.,   72.]])"
      ]
     },
     "execution_count": 113,
     "metadata": {},
     "output_type": "execute_result"
    }
   ],
   "source": [
    "v.tomatrix(tstin).astype(int) - chiselka"
   ]
  },
  {
   "cell_type": "code",
   "execution_count": 114,
   "metadata": {},
   "outputs": [
    {
     "name": "stdout",
     "output_type": "stream",
     "text": [
      "N0 119117\n",
      "PSISTAT 3.6918\n",
      "RSQ 0.996\n",
      "MAPE 2156.2038\n",
      "SWAD -0.3392\n",
      "WAPE 586.5144\n"
     ]
    }
   ],
   "source": [
    "metrics.get_values(tstin.astype(int), real12v.astype(int))"
   ]
  },
  {
   "cell_type": "code",
   "execution_count": null,
   "metadata": {},
   "outputs": [],
   "source": []
  }
 ],
 "metadata": {
  "kernelspec": {
   "display_name": "Python 3",
   "language": "python",
   "name": "python3"
  },
  "language_info": {
   "codemirror_mode": {
    "name": "ipython",
    "version": 3
   },
   "file_extension": ".py",
   "mimetype": "text/x-python",
   "name": "python",
   "nbconvert_exporter": "python",
   "pygments_lexer": "ipython3",
   "version": "3.7.3"
  },
  "pycharm": {
   "stem_cell": {
    "cell_type": "raw",
    "metadata": {
     "collapsed": false
    },
    "source": []
   }
  }
 },
 "nbformat": 4,
 "nbformat_minor": 1
}
