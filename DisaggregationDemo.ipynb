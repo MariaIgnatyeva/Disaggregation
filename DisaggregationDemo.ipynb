{
 "cells": [
  {
   "cell_type": "code",
   "execution_count": 1,
   "metadata": {},
   "outputs": [],
   "source": [
    "from scripts import support, insd, kuroda, nras, metrics, vectorization as v\n",
    "import pandas as pd\n",
    "import numpy as np"
   ]
  },
  {
   "cell_type": "code",
   "execution_count": 2,
   "metadata": {
    "scrolled": false
   },
   "outputs": [],
   "source": [
    "# Base matrix\n",
    "df = pd.read_excel(\"./data/all2011.xlsx\", 'М-имп',skiprows=1,index_col=2)\n",
    "df = df.iloc[2:-2,2:-13]"
   ]
  },
  {
   "cell_type": "code",
   "execution_count": 3,
   "metadata": {},
   "outputs": [],
   "source": [
    "# Predicted matrix\n",
    "pred_df = pd.read_excel(\"./data/tri-2012.xlsx\", 'М-имп',skiprows=1,index_col=2)\n",
    "pred_df = pred_df.iloc[2:-2,2:-11]\n",
    "shape = pred_df.shape"
   ]
  },
  {
   "cell_type": "code",
   "execution_count": 4,
   "metadata": {},
   "outputs": [],
   "source": [
    "# Sums of rows\\columns\n",
    "sums_rows = pred_df.sum(axis=1).values.reshape(-1,1)\n",
    "sums_cols = pred_df.sum(axis=0).values.reshape(-1,1)"
   ]
  },
  {
   "cell_type": "code",
   "execution_count": 5,
   "metadata": {},
   "outputs": [
    {
     "name": "stdout",
     "output_type": "stream",
     "text": [
      "[[33559]\n",
      " [12]\n",
      " [16]\n",
      " ...\n",
      " [0]\n",
      " [0]\n",
      " [0]]\n"
     ]
    }
   ],
   "source": [
    "# Vectorization of matrix\n",
    "print(v.tovector(df.values))"
   ]
  },
  {
   "cell_type": "code",
   "execution_count": 6,
   "metadata": {
    "scrolled": true
   },
   "outputs": [
    {
     "data": {
      "text/plain": [
       "array([[33559, 301, 33, ..., 314, 1556, 0],\n",
       "       [12, 33, 0, ..., 9, 18, 0],\n",
       "       [16, 0, 593, ..., 18, 0, 0],\n",
       "       ...,\n",
       "       [6, 0, 4, ..., 6379, 0, 0],\n",
       "       [0, 0, 0, ..., 0, 0, 0],\n",
       "       [0, 0, 0, ..., 0, 0, 0]], dtype=object)"
      ]
     },
     "execution_count": 6,
     "metadata": {},
     "output_type": "execute_result"
    }
   ],
   "source": [
    "# Alternative to vectorization.tovector - simplier for pandas dataframes\n",
    "vect_a = df.unstack().values.reshape(-1,1)\n",
    "v.tomatrix(vect_a, shape)"
   ]
  },
  {
   "cell_type": "code",
   "execution_count": 7,
   "metadata": {},
   "outputs": [
    {
     "data": {
      "text/plain": [
       "array([[1., 0., 0., 1., 0., 0., 1., 0., 0.],\n",
       "       [0., 1., 0., 0., 1., 0., 0., 1., 0.],\n",
       "       [0., 0., 1., 0., 0., 1., 0., 0., 1.]])"
      ]
     },
     "execution_count": 7,
     "metadata": {},
     "output_type": "execute_result"
    }
   ],
   "source": [
    "# Adding coefficients of elements in sums of rows\n",
    "# matrix 3*3\n",
    "G = np.empty((0,3*3),float)\n",
    "v.addrows(G,(3,3))"
   ]
  },
  {
   "cell_type": "code",
   "execution_count": 8,
   "metadata": {},
   "outputs": [
    {
     "data": {
      "text/plain": [
       "array([[1., 0., 0., ..., 0., 0., 0.],\n",
       "       [0., 1., 0., ..., 0., 0., 0.],\n",
       "       [0., 0., 1., ..., 0., 0., 0.],\n",
       "       ...,\n",
       "       [0., 0., 0., ..., 0., 0., 0.],\n",
       "       [0., 0., 0., ..., 0., 0., 0.],\n",
       "       [0., 0., 0., ..., 1., 1., 1.]])"
      ]
     },
     "execution_count": 8,
     "metadata": {},
     "output_type": "execute_result"
    }
   ],
   "source": [
    "# Add coefficients of constraints & merge column of constraints\n",
    "c = np.append(sums_rows,sums_cols,axis=0)\n",
    "G = np.empty((0,shape[0]*shape[1]),float)\n",
    "G = v.addrows(G,shape)\n",
    "G = v.addcolumns(G,shape)\n",
    "G"
   ]
  },
  {
   "cell_type": "code",
   "execution_count": 9,
   "metadata": {},
   "outputs": [
    {
     "name": "stdout",
     "output_type": "stream",
     "text": [
      "Academic license - for non-commercial use only\n",
      "Parameter BarConvTol unchanged\n",
      "   Value: 1e-08  Min: 0.0  Max: 1.0  Default: 1e-08\n",
      "Parameter BarQCPConvTol unchanged\n",
      "   Value: 1e-06  Min: 0.0  Max: 1.0  Default: 1e-06\n",
      "Changed value of parameter DualReductions to 0\n",
      "   Prev: 1  Min: 0  Max: 1  Default: 1\n"
     ]
    },
    {
     "data": {
      "text/html": [
       "<div>\n",
       "<style scoped>\n",
       "    .dataframe tbody tr th:only-of-type {\n",
       "        vertical-align: middle;\n",
       "    }\n",
       "\n",
       "    .dataframe tbody tr th {\n",
       "        vertical-align: top;\n",
       "    }\n",
       "\n",
       "    .dataframe thead th {\n",
       "        text-align: right;\n",
       "    }\n",
       "</style>\n",
       "<table border=\"1\" class=\"dataframe\">\n",
       "  <thead>\n",
       "    <tr style=\"text-align: right;\">\n",
       "      <th></th>\n",
       "      <th>0</th>\n",
       "      <th>1</th>\n",
       "      <th>2</th>\n",
       "      <th>3</th>\n",
       "      <th>4</th>\n",
       "      <th>5</th>\n",
       "      <th>6</th>\n",
       "      <th>7</th>\n",
       "      <th>8</th>\n",
       "      <th>9</th>\n",
       "      <th>...</th>\n",
       "      <th>49</th>\n",
       "      <th>50</th>\n",
       "      <th>51</th>\n",
       "      <th>52</th>\n",
       "      <th>53</th>\n",
       "      <th>54</th>\n",
       "      <th>55</th>\n",
       "      <th>56</th>\n",
       "      <th>57</th>\n",
       "      <th>58</th>\n",
       "    </tr>\n",
       "  </thead>\n",
       "  <tbody>\n",
       "    <tr>\n",
       "      <th>0</th>\n",
       "      <td>35012.661</td>\n",
       "      <td>315.235</td>\n",
       "      <td>40.575</td>\n",
       "      <td>0.000</td>\n",
       "      <td>3.421</td>\n",
       "      <td>0.0</td>\n",
       "      <td>0.000</td>\n",
       "      <td>0.000</td>\n",
       "      <td>64548.756</td>\n",
       "      <td>33009.027</td>\n",
       "      <td>...</td>\n",
       "      <td>35.696</td>\n",
       "      <td>150.406</td>\n",
       "      <td>4773.123</td>\n",
       "      <td>1889.925</td>\n",
       "      <td>7337.560</td>\n",
       "      <td>69.136</td>\n",
       "      <td>285.435</td>\n",
       "      <td>347.134</td>\n",
       "      <td>1493.830</td>\n",
       "      <td>0.0</td>\n",
       "    </tr>\n",
       "    <tr>\n",
       "      <th>1</th>\n",
       "      <td>16.165</td>\n",
       "      <td>44.586</td>\n",
       "      <td>0.000</td>\n",
       "      <td>5.261</td>\n",
       "      <td>0.000</td>\n",
       "      <td>0.0</td>\n",
       "      <td>0.000</td>\n",
       "      <td>0.000</td>\n",
       "      <td>351.247</td>\n",
       "      <td>0.000</td>\n",
       "      <td>...</td>\n",
       "      <td>1.154</td>\n",
       "      <td>2.772</td>\n",
       "      <td>19.482</td>\n",
       "      <td>4.008</td>\n",
       "      <td>11.149</td>\n",
       "      <td>0.000</td>\n",
       "      <td>4.717</td>\n",
       "      <td>12.684</td>\n",
       "      <td>22.749</td>\n",
       "      <td>0.0</td>\n",
       "    </tr>\n",
       "    <tr>\n",
       "      <th>2</th>\n",
       "      <td>23.802</td>\n",
       "      <td>0.000</td>\n",
       "      <td>992.586</td>\n",
       "      <td>0.000</td>\n",
       "      <td>0.000</td>\n",
       "      <td>0.0</td>\n",
       "      <td>0.000</td>\n",
       "      <td>0.000</td>\n",
       "      <td>18647.784</td>\n",
       "      <td>0.000</td>\n",
       "      <td>...</td>\n",
       "      <td>18.119</td>\n",
       "      <td>3.053</td>\n",
       "      <td>15.156</td>\n",
       "      <td>2.953</td>\n",
       "      <td>85.909</td>\n",
       "      <td>0.000</td>\n",
       "      <td>6.852</td>\n",
       "      <td>27.897</td>\n",
       "      <td>0.000</td>\n",
       "      <td>0.0</td>\n",
       "    </tr>\n",
       "    <tr>\n",
       "      <th>3</th>\n",
       "      <td>84.373</td>\n",
       "      <td>0.559</td>\n",
       "      <td>4.448</td>\n",
       "      <td>6620.211</td>\n",
       "      <td>15.000</td>\n",
       "      <td>0.0</td>\n",
       "      <td>53.434</td>\n",
       "      <td>11.302</td>\n",
       "      <td>121.794</td>\n",
       "      <td>0.000</td>\n",
       "      <td>...</td>\n",
       "      <td>1.447</td>\n",
       "      <td>14.846</td>\n",
       "      <td>92.164</td>\n",
       "      <td>52.763</td>\n",
       "      <td>208.139</td>\n",
       "      <td>15.234</td>\n",
       "      <td>1.561</td>\n",
       "      <td>17.901</td>\n",
       "      <td>14.154</td>\n",
       "      <td>0.0</td>\n",
       "    </tr>\n",
       "    <tr>\n",
       "      <th>4</th>\n",
       "      <td>0.000</td>\n",
       "      <td>0.000</td>\n",
       "      <td>0.000</td>\n",
       "      <td>0.000</td>\n",
       "      <td>10156.644</td>\n",
       "      <td>0.0</td>\n",
       "      <td>0.000</td>\n",
       "      <td>0.000</td>\n",
       "      <td>0.000</td>\n",
       "      <td>0.000</td>\n",
       "      <td>...</td>\n",
       "      <td>0.000</td>\n",
       "      <td>0.000</td>\n",
       "      <td>0.000</td>\n",
       "      <td>0.000</td>\n",
       "      <td>0.000</td>\n",
       "      <td>0.000</td>\n",
       "      <td>0.000</td>\n",
       "      <td>0.000</td>\n",
       "      <td>0.000</td>\n",
       "      <td>0.0</td>\n",
       "    </tr>\n",
       "  </tbody>\n",
       "</table>\n",
       "<p>5 rows × 59 columns</p>\n",
       "</div>"
      ],
      "text/plain": [
       "          0        1        2         3          4    5       6       7   \\\n",
       "0  35012.661  315.235   40.575     0.000      3.421  0.0   0.000   0.000   \n",
       "1     16.165   44.586    0.000     5.261      0.000  0.0   0.000   0.000   \n",
       "2     23.802    0.000  992.586     0.000      0.000  0.0   0.000   0.000   \n",
       "3     84.373    0.559    4.448  6620.211     15.000  0.0  53.434  11.302   \n",
       "4      0.000    0.000    0.000     0.000  10156.644  0.0   0.000   0.000   \n",
       "\n",
       "          8          9  ...       49       50        51        52        53  \\\n",
       "0  64548.756  33009.027 ...   35.696  150.406  4773.123  1889.925  7337.560   \n",
       "1    351.247      0.000 ...    1.154    2.772    19.482     4.008    11.149   \n",
       "2  18647.784      0.000 ...   18.119    3.053    15.156     2.953    85.909   \n",
       "3    121.794      0.000 ...    1.447   14.846    92.164    52.763   208.139   \n",
       "4      0.000      0.000 ...    0.000    0.000     0.000     0.000     0.000   \n",
       "\n",
       "       54       55       56        57   58  \n",
       "0  69.136  285.435  347.134  1493.830  0.0  \n",
       "1   0.000    4.717   12.684    22.749  0.0  \n",
       "2   0.000    6.852   27.897     0.000  0.0  \n",
       "3  15.234    1.561   17.901    14.154  0.0  \n",
       "4   0.000    0.000    0.000     0.000  0.0  \n",
       "\n",
       "[5 rows x 59 columns]"
      ]
     },
     "execution_count": 9,
     "metadata": {},
     "output_type": "execute_result"
    }
   ],
   "source": [
    "# Run INSD\n",
    "res_df = insd.insd(aa=vect_a,c=c, G=G)\n",
    "pd.DataFrame(v.tomatrix(res_df)).round(3).head()"
   ]
  },
  {
   "cell_type": "code",
   "execution_count": 10,
   "metadata": {},
   "outputs": [
    {
     "name": "stdout",
     "output_type": "stream",
     "text": [
      "MAPE 3748.71\n",
      "SWAD 0.347\n",
      "WAPE 132.195\n"
     ]
    }
   ],
   "source": [
    "# Metrics\n",
    "metrics.get_values(res_df,pred_df.values)"
   ]
  },
  {
   "cell_type": "code",
   "execution_count": 17,
   "metadata": {},
   "outputs": [
    {
     "name": "stdout",
     "output_type": "stream",
     "text": [
      "49\n",
      "MAPE 3761.955\n",
      "SWAD 0.347\n",
      "WAPE 132.127\n"
     ]
    }
   ],
   "source": [
    "# NRAS\n",
    "res_df = nras.nras(G=G,aa=vect_a,c=c,accuracy=0.001, limit =  100)\n",
    "metrics.get_values(res_df,pred_df.values)"
   ]
  },
  {
   "cell_type": "code",
   "execution_count": 17,
   "metadata": {},
   "outputs": [
    {
     "name": "stderr",
     "output_type": "stream",
     "text": [
      "ERROR:root:Traceback (most recent call last):\n",
      "  File \"var.pxi\", line 307, in gurobipy.Var.__truediv__\n",
      "ZeroDivisionError: float division\n",
      "\n",
      "During handling of the above exception, another exception occurred:\n",
      "\n",
      "Traceback (most recent call last):\n",
      "  File \"/Users/Aska/GitHub/Disaggregation/scripts/kuroda.py\", line 58, in kuroda\n",
      "    t.add(0.5 * (x[j] / c[i] - at[j] / czero[i]) * (x[j] / c[i] - at[j] / czero[i]) * w[i][j])\n",
      "  File \"var.pxi\", line 309, in gurobipy.Var.__truediv__\n",
      "gurobipy.GurobiError: Divisor must be a constant\n",
      "\n",
      "ERROR:root:Traceback (most recent call last):\n",
      "  File \"/Users/Aska/GitHub/Disaggregation/scripts/metrics.py\", line 55, in mape\n",
      "    x = x.flatten()\n",
      "AttributeError: 'int' object has no attribute 'flatten'\n",
      "\n",
      "ERROR:root:Traceback (most recent call last):\n",
      "  File \"/Users/Aska/GitHub/Disaggregation/scripts/metrics.py\", line 106, in swad\n",
      "    x = x.flatten()\n",
      "AttributeError: 'int' object has no attribute 'flatten'\n",
      "\n",
      "ERROR:root:Traceback (most recent call last):\n",
      "  File \"/Users/Aska/GitHub/Disaggregation/scripts/metrics.py\", line 81, in wape\n",
      "    x = x.flatten()\n",
      "AttributeError: 'int' object has no attribute 'flatten'\n",
      "\n"
     ]
    },
    {
     "name": "stdout",
     "output_type": "stream",
     "text": [
      "MAPE -1\n",
      "SWAD -1\n",
      "WAPE -1\n"
     ]
    }
   ],
   "source": [
    "# Kuroda\n",
    "res_df = kuroda.kuroda(G=G,aa=vect_a,c=c,mtype=3)\n",
    "metrics.get_values(res_df,pred_df.values)"
   ]
  },
  {
   "cell_type": "code",
   "execution_count": null,
   "metadata": {
    "collapsed": true
   },
   "outputs": [],
   "source": []
  },
  {
   "cell_type": "code",
   "execution_count": null,
   "metadata": {
    "collapsed": true
   },
   "outputs": [],
   "source": []
  },
  {
   "cell_type": "code",
   "execution_count": 48,
   "metadata": {},
   "outputs": [
    {
     "name": "stdout",
     "output_type": "stream",
     "text": [
      "Обрабатываем данные из таблицы в формате Rosstat \"ТАБЛИЦА ИСПОЛЬЗОВАНИЯ ИМПОРТНОЙ ПРОДУКЦИИ за 2012 год (млн. рублей)\"\n"
     ]
    }
   ],
   "source": [
    "# Загружаем данные из одной несимметричной таблицы \n",
    "quadrant1, df, codes_industries, codes_products = support.load_Rosstat_non_sym(\"./data/tri-2012.xlsx\", 'М-имп', quandrant2_columns = 11, quadrant3_rows = 2)"
   ]
  },
  {
   "cell_type": "code",
   "execution_count": null,
   "metadata": {
    "collapsed": true
   },
   "outputs": [],
   "source": [
    "# Сохраняем таблицы в файл постранично \n",
    "df_d[0].columns.name = \"Отечественный выпуск0\"\n",
    "result_tables = {support.pack_name(\"Отечественный выпуск0\",years,'2008'): df_d[0]}\n",
    "support.save_to_excel(\"test_res.xlsx\", years, codes, **result_tables)"
   ]
  },
  {
   "cell_type": "code",
   "execution_count": 44,
   "metadata": {},
   "outputs": [
    {
     "data": {
      "text/plain": [
       "'мяумя за 2020-21000гг(2019)'"
      ]
     },
     "execution_count": 44,
     "metadata": {},
     "output_type": "execute_result"
    }
   ],
   "source": [
    "support.pack_name(\"мяумя\",'2020-21000','2019')"
   ]
  }
 ],
 "metadata": {
  "kernelspec": {
   "display_name": "Python 3",
   "language": "python",
   "name": "python3"
  },
  "language_info": {
   "codemirror_mode": {
    "name": "ipython",
    "version": 3
   },
   "file_extension": ".py",
   "mimetype": "text/x-python",
   "name": "python",
   "nbconvert_exporter": "python",
   "pygments_lexer": "ipython3",
   "version": "3.6.7"
  }
 },
 "nbformat": 4,
 "nbformat_minor": 2
}
