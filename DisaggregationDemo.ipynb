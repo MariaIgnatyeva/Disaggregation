{
 "cells": [
  {
   "cell_type": "code",
   "execution_count": 1,
   "metadata": {
    "collapsed": true
   },
   "outputs": [],
   "source": [
    "from scripts import support, insd, kuroda, nras, metrics, vectorization as v\n",
    "import pandas as pd\n",
    "import numpy as np\n",
    "import timeit\n",
    "import matplotlib.pyplot as plt\n",
    "%matplotlib inline\n",
    "from scipy.sparse import csr_matrix, coo_matrix"
   ]
  },
  {
   "cell_type": "code",
   "execution_count": 2,
   "metadata": {
    "collapsed": true
   },
   "outputs": [],
   "source": [
    "# Load base matrix\n",
    "df = pd.read_excel(\"./data/all2011.xlsx\", 'ТИоц',skiprows=1,index_col=2)\n",
    "df = df.iloc[2:-11,2:-16].astype(np.float)\n",
    "# Load predicted matrix\n",
    "pred_df = pd.read_excel(\"./data/tri-2012.xlsx\", 'ТИоц',skiprows=1,index_col=2)\n",
    "pred_df = pred_df.iloc[2:-12,2:-11].astype(np.float)\n",
    "shape = pred_df.shape\n"
   ]
  },
  {
   "cell_type": "code",
   "execution_count": 3,
   "metadata": {
    "collapsed": true
   },
   "outputs": [],
   "source": [
    "# Sums of rows\\columns\n",
    "sums_rows = pred_df.sum(axis=1).values.reshape(-1,1)\n",
    "sums_cols = pred_df.sum(axis=0).values.reshape(-1,1)"
   ]
  },
  {
   "cell_type": "code",
   "execution_count": 4,
   "metadata": {},
   "outputs": [
    {
     "data": {
      "text/plain": [
       "array([[7.02865e+05],\n",
       "       [8.83000e+02],\n",
       "       [6.40000e+01],\n",
       "       ...,\n",
       "       [0.00000e+00],\n",
       "       [0.00000e+00],\n",
       "       [0.00000e+00]])"
      ]
     },
     "execution_count": 4,
     "metadata": {},
     "output_type": "execute_result"
    }
   ],
   "source": [
    "# Vectorization of matrix\n",
    "vect_a = v.tovector(df.values) #df.unstack().values.reshape(-1,1)\n",
    "vect_a"
   ]
  },
  {
   "cell_type": "code",
   "execution_count": 5,
   "metadata": {},
   "outputs": [
    {
     "data": {
      "text/plain": [
       "array([[1., 0., 0., ..., 0., 0., 0.],\n",
       "       [0., 1., 0., ..., 0., 0., 0.],\n",
       "       [0., 0., 1., ..., 0., 0., 0.],\n",
       "       ...,\n",
       "       [0., 0., 0., ..., 0., 0., 0.],\n",
       "       [0., 0., 0., ..., 0., 0., 0.],\n",
       "       [0., 0., 0., ..., 1., 1., 1.]])"
      ]
     },
     "execution_count": 5,
     "metadata": {},
     "output_type": "execute_result"
    }
   ],
   "source": [
    "# Add coefficients of constraints & merge column of constraints\n",
    "c = np.append(sums_rows,sums_cols,axis=0)\n",
    "#G = v.addrows(shape)\n",
    "#G = v.addcolumns(shape,G)\n",
    "G = v.addrows(shape,sparsed=True) # sparsed\n",
    "G = v.addcolumns(shape,G,sparsed=True) # sparsed\n",
    "G.toarray()\n",
    "#G"
   ]
  },
  {
   "cell_type": "code",
   "execution_count": 6,
   "metadata": {},
   "outputs": [
    {
     "data": {
      "text/plain": [
       "<matplotlib.image.AxesImage at 0x1101bdb00>"
      ]
     },
     "execution_count": 6,
     "metadata": {},
     "output_type": "execute_result"
    },
    {
     "data": {
      "image/png": "[encoded data removed]",
      "text/plain": [
       "<matplotlib.figure.Figure at 0x10feec0f0>"
      ]
     },
     "metadata": {},
     "output_type": "display_data"
    }
   ],
   "source": [
    "plt.spy(G.toarray(),aspect='auto')"
   ]
  },
  {
   "cell_type": "code",
   "execution_count": 7,
   "metadata": {},
   "outputs": [
    {
     "name": "stdout",
     "output_type": "stream",
     "text": [
      "Academic license - for non-commercial use only\n",
      "Parameter BarConvTol unchanged\n",
      "   Value: 1e-08  Min: 0.0  Max: 1.0  Default: 1e-08\n",
      "Parameter BarQCPConvTol unchanged\n",
      "   Value: 1e-06  Min: 0.0  Max: 1.0  Default: 1e-06\n",
      "Changed value of parameter DualReductions to 0\n",
      "   Prev: 1  Min: 0  Max: 1  Default: 1\n",
      "N0 390\n",
      "PSISTAT 0.0025\n",
      "RSQ 0.9977\n",
      "MAPE 12.0875\n",
      "SWAD 0.0256\n",
      "WAPE 6.0546\n"
     ]
    },
    {
     "data": {
      "text/html": [
       "<div>\n",
       "<style scoped>\n",
       "    .dataframe tbody tr th:only-of-type {\n",
       "        vertical-align: middle;\n",
       "    }\n",
       "\n",
       "    .dataframe tbody tr th {\n",
       "        vertical-align: top;\n",
       "    }\n",
       "\n",
       "    .dataframe thead th {\n",
       "        text-align: right;\n",
       "    }\n",
       "</style>\n",
       "<table border=\"1\" class=\"dataframe\">\n",
       "  <thead>\n",
       "    <tr style=\"text-align: right;\">\n",
       "      <th></th>\n",
       "      <th>0</th>\n",
       "      <th>1</th>\n",
       "      <th>2</th>\n",
       "      <th>3</th>\n",
       "      <th>4</th>\n",
       "      <th>5</th>\n",
       "      <th>6</th>\n",
       "      <th>7</th>\n",
       "      <th>8</th>\n",
       "      <th>9</th>\n",
       "      <th>...</th>\n",
       "      <th>49</th>\n",
       "      <th>50</th>\n",
       "      <th>51</th>\n",
       "      <th>52</th>\n",
       "      <th>53</th>\n",
       "      <th>54</th>\n",
       "      <th>55</th>\n",
       "      <th>56</th>\n",
       "      <th>57</th>\n",
       "      <th>58</th>\n",
       "    </tr>\n",
       "  </thead>\n",
       "  <tbody>\n",
       "    <tr>\n",
       "      <th>0</th>\n",
       "      <td>703254.998</td>\n",
       "      <td>710.988</td>\n",
       "      <td>446.138</td>\n",
       "      <td>3.075</td>\n",
       "      <td>189.392</td>\n",
       "      <td>0.000</td>\n",
       "      <td>5.789</td>\n",
       "      <td>116.212</td>\n",
       "      <td>1397528.792</td>\n",
       "      <td>36145.869</td>\n",
       "      <td>...</td>\n",
       "      <td>1273.473</td>\n",
       "      <td>765.666</td>\n",
       "      <td>37011.175</td>\n",
       "      <td>4813.264</td>\n",
       "      <td>21093.756</td>\n",
       "      <td>132.718</td>\n",
       "      <td>679.351</td>\n",
       "      <td>1462.063</td>\n",
       "      <td>3678.361</td>\n",
       "      <td>0.0</td>\n",
       "    </tr>\n",
       "    <tr>\n",
       "      <th>1</th>\n",
       "      <td>908.877</td>\n",
       "      <td>17381.577</td>\n",
       "      <td>1.120</td>\n",
       "      <td>143.331</td>\n",
       "      <td>132.954</td>\n",
       "      <td>0.000</td>\n",
       "      <td>21.358</td>\n",
       "      <td>17.004</td>\n",
       "      <td>358.219</td>\n",
       "      <td>0.000</td>\n",
       "      <td>...</td>\n",
       "      <td>17.980</td>\n",
       "      <td>68.644</td>\n",
       "      <td>6297.640</td>\n",
       "      <td>158.427</td>\n",
       "      <td>257.520</td>\n",
       "      <td>14.074</td>\n",
       "      <td>19.805</td>\n",
       "      <td>158.741</td>\n",
       "      <td>135.816</td>\n",
       "      <td>0.0</td>\n",
       "    </tr>\n",
       "    <tr>\n",
       "      <th>2</th>\n",
       "      <td>63.981</td>\n",
       "      <td>0.000</td>\n",
       "      <td>5056.309</td>\n",
       "      <td>0.000</td>\n",
       "      <td>0.000</td>\n",
       "      <td>0.000</td>\n",
       "      <td>1.157</td>\n",
       "      <td>0.000</td>\n",
       "      <td>77703.387</td>\n",
       "      <td>0.000</td>\n",
       "      <td>...</td>\n",
       "      <td>84.249</td>\n",
       "      <td>11.853</td>\n",
       "      <td>705.885</td>\n",
       "      <td>12.022</td>\n",
       "      <td>363.301</td>\n",
       "      <td>1.143</td>\n",
       "      <td>34.262</td>\n",
       "      <td>107.114</td>\n",
       "      <td>0.000</td>\n",
       "      <td>0.0</td>\n",
       "    </tr>\n",
       "    <tr>\n",
       "      <th>3</th>\n",
       "      <td>1375.485</td>\n",
       "      <td>8.417</td>\n",
       "      <td>47.945</td>\n",
       "      <td>80800.005</td>\n",
       "      <td>410.626</td>\n",
       "      <td>0.707</td>\n",
       "      <td>360.469</td>\n",
       "      <td>146.950</td>\n",
       "      <td>1623.731</td>\n",
       "      <td>0.000</td>\n",
       "      <td>...</td>\n",
       "      <td>38.170</td>\n",
       "      <td>209.673</td>\n",
       "      <td>2761.132</td>\n",
       "      <td>561.983</td>\n",
       "      <td>2384.373</td>\n",
       "      <td>140.818</td>\n",
       "      <td>19.478</td>\n",
       "      <td>185.625</td>\n",
       "      <td>216.505</td>\n",
       "      <td>0.0</td>\n",
       "    </tr>\n",
       "    <tr>\n",
       "      <th>4</th>\n",
       "      <td>252.023</td>\n",
       "      <td>0.000</td>\n",
       "      <td>0.000</td>\n",
       "      <td>356.735</td>\n",
       "      <td>320588.748</td>\n",
       "      <td>0.000</td>\n",
       "      <td>0.000</td>\n",
       "      <td>229.470</td>\n",
       "      <td>105.698</td>\n",
       "      <td>0.000</td>\n",
       "      <td>...</td>\n",
       "      <td>7.699</td>\n",
       "      <td>4809.419</td>\n",
       "      <td>0.000</td>\n",
       "      <td>0.000</td>\n",
       "      <td>13.573</td>\n",
       "      <td>2.665</td>\n",
       "      <td>0.000</td>\n",
       "      <td>0.000</td>\n",
       "      <td>0.000</td>\n",
       "      <td>0.0</td>\n",
       "    </tr>\n",
       "  </tbody>\n",
       "</table>\n",
       "<p>5 rows × 59 columns</p>\n",
       "</div>"
      ],
      "text/plain": [
       "           0          1         2          3           4      5        6   \\\n",
       "0  703254.998    710.988   446.138      3.075     189.392  0.000    5.789   \n",
       "1     908.877  17381.577     1.120    143.331     132.954  0.000   21.358   \n",
       "2      63.981      0.000  5056.309      0.000       0.000  0.000    1.157   \n",
       "3    1375.485      8.417    47.945  80800.005     410.626  0.707  360.469   \n",
       "4     252.023      0.000     0.000    356.735  320588.748  0.000    0.000   \n",
       "\n",
       "        7            8          9  ...         49        50         51  \\\n",
       "0  116.212  1397528.792  36145.869 ...   1273.473   765.666  37011.175   \n",
       "1   17.004      358.219      0.000 ...     17.980    68.644   6297.640   \n",
       "2    0.000    77703.387      0.000 ...     84.249    11.853    705.885   \n",
       "3  146.950     1623.731      0.000 ...     38.170   209.673   2761.132   \n",
       "4  229.470      105.698      0.000 ...      7.699  4809.419      0.000   \n",
       "\n",
       "         52         53       54       55        56        57   58  \n",
       "0  4813.264  21093.756  132.718  679.351  1462.063  3678.361  0.0  \n",
       "1   158.427    257.520   14.074   19.805   158.741   135.816  0.0  \n",
       "2    12.022    363.301    1.143   34.262   107.114     0.000  0.0  \n",
       "3   561.983   2384.373  140.818   19.478   185.625   216.505  0.0  \n",
       "4     0.000     13.573    2.665    0.000     0.000     0.000  0.0  \n",
       "\n",
       "[5 rows x 59 columns]"
      ]
     },
     "execution_count": 7,
     "metadata": {},
     "output_type": "execute_result"
    }
   ],
   "source": [
    "# Run INSD ~201 ms\n",
    "res_df = insd.insd(aa=vect_a,c=c, G=G,sparsed=True) #,sparsed=True\n",
    "metrics.get_values(res_df,pred_df.values)\n",
    "pd.DataFrame(v.tomatrix(res_df)).round(3).head()"
   ]
  },
  {
   "cell_type": "code",
   "execution_count": 8,
   "metadata": {},
   "outputs": [
    {
     "name": "stdout",
     "output_type": "stream",
     "text": [
      "23\n",
      "N0 390\n",
      "PSISTAT 0.0025\n",
      "RSQ 0.9978\n",
      "MAPE 11.9702\n",
      "SWAD 0.0249\n",
      "WAPE 6.0148\n"
     ]
    }
   ],
   "source": [
    "# Run NRAS ~181 ms \n",
    "res_df = nras.nras(G=G,aa=vect_a,c=c,accuracy=0.01, limit = 100,sparsed=True)\n",
    "metrics.get_values(res_df,pred_df.values)"
   ]
  },
  {
   "cell_type": "code",
   "execution_count": 9,
   "metadata": {
    "scrolled": true
   },
   "outputs": [
    {
     "name": "stdout",
     "output_type": "stream",
     "text": [
      "Parameter BarConvTol unchanged\n",
      "   Value: 1e-08  Min: 0.0  Max: 1.0  Default: 1e-08\n",
      "Parameter BarQCPConvTol unchanged\n",
      "   Value: 1e-06  Min: 0.0  Max: 1.0  Default: 1e-06\n",
      "Changed value of parameter DualReductions to 0\n",
      "   Prev: 1  Min: 0  Max: 1  Default: 1\n",
      "N0 12\n",
      "PSISTAT 0.0027\n",
      "RSQ 0.9973\n",
      "MAPE 12.1578\n",
      "SWAD 0.0313\n",
      "WAPE 6.3198\n"
     ]
    }
   ],
   "source": [
    "# Run Kuroda ~331 ms\n",
    "res_df = kuroda.kuroda(G=G,aa=vect_a,c=c,mtype=1,sparsed=True)\n",
    "metrics.get_values(res_df,pred_df.values)"
   ]
  },
  {
   "cell_type": "code",
   "execution_count": null,
   "metadata": {
    "collapsed": true
   },
   "outputs": [],
   "source": []
  },
  {
   "cell_type": "code",
   "execution_count": null,
   "metadata": {
    "collapsed": true
   },
   "outputs": [],
   "source": []
  },
  {
   "cell_type": "code",
   "execution_count": null,
   "metadata": {
    "collapsed": true
   },
   "outputs": [],
   "source": []
  },
  {
   "cell_type": "markdown",
   "metadata": {},
   "source": [
    "### Загрузка\\сохранение данных"
   ]
  },
  {
   "cell_type": "code",
   "execution_count": 48,
   "metadata": {},
   "outputs": [
    {
     "name": "stdout",
     "output_type": "stream",
     "text": [
      "Обрабатываем данные из таблицы в формате Rosstat \"ТАБЛИЦА ИСПОЛЬЗОВАНИЯ ИМПОРТНОЙ ПРОДУКЦИИ за 2012 год (млн. рублей)\"\n"
     ]
    }
   ],
   "source": [
    "# Загружаем данные из одной несимметричной таблицы \n",
    "quadrant1, df, codes_industries, codes_products = support.load_Rosstat_non_sym(\"./data/tri-2012.xlsx\", 'М-имп', quandrant2_columns = 11, quadrant3_rows = 2)"
   ]
  },
  {
   "cell_type": "code",
   "execution_count": null,
   "metadata": {
    "collapsed": true
   },
   "outputs": [],
   "source": [
    "# Сохраняем таблицы в файл постранично \n",
    "df_d[0].columns.name = \"Отечественный выпуск0\"\n",
    "result_tables = {support.pack_name(\"Отечественный выпуск0\",years,'2008'): df_d[0]}\n",
    "support.save_to_excel(\"test_res.xlsx\", years, codes, **result_tables)"
   ]
  },
  {
   "cell_type": "code",
   "execution_count": 44,
   "metadata": {},
   "outputs": [
    {
     "data": {
      "text/plain": [
       "'мяумя за 2020-21000гг(2019)'"
      ]
     },
     "execution_count": 44,
     "metadata": {},
     "output_type": "execute_result"
    }
   ],
   "source": [
    "support.pack_name(\"мяумя\",'2020-21000','2019')"
   ]
  }
 ],
 "metadata": {
  "kernelspec": {
   "display_name": "Python 3",
   "language": "python",
   "name": "python3"
  },
  "language_info": {
   "codemirror_mode": {
    "name": "ipython",
    "version": 3
   },
   "file_extension": ".py",
   "mimetype": "text/x-python",
   "name": "python",
   "nbconvert_exporter": "python",
   "pygments_lexer": "ipython3",
   "version": "3.6.9"
  }
 },
 "nbformat": 4,
 "nbformat_minor": 2
}
