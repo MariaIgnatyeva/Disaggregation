{
 "cells": [
  {
   "cell_type": "code",
   "execution_count": 1,
   "metadata": {
    "collapsed": true
   },
   "outputs": [],
   "source": [
    "from scripts import support, insd, kuroda, nras, metrics, vectorization as v\n",
    "import pandas as pd\n",
    "import numpy as np\n",
    "import matplotlib.pyplot as plt\n",
    "%matplotlib inline"
   ]
  },
  {
   "cell_type": "code",
   "execution_count": 37,
   "metadata": {},
   "outputs": [
    {
     "data": {
      "text/plain": [
       "((62, 59), (62, 59))"
      ]
     },
     "execution_count": 37,
     "metadata": {},
     "output_type": "execute_result"
    }
   ],
   "source": [
    "# Load base matrix\n",
    "df = pd.read_excel(\"./data/tri-2011.xlsx\", 'ТИоц', skiprows=2, index_col=1)\n",
    "df = df.iloc[1:63, 2:-13].astype(np.float)\n",
    "# df = df.drop(columns=df.columns[[-11, -6, -2]])\n",
    "df_shape = df.shape\n",
    "\n",
    "# Load predicted matrix\n",
    "pred_df = pd.read_excel(\"./data/tri-2016.xlsx\", 'ТИоц', skiprows=2, index_col=1)\n",
    "pred_df = pred_df.iloc[1:63, 2:-13].astype(np.float)\n",
    "# pred_df = pred_df.drop(columns=pred_df.columns[[-11, -6, -2]])\n",
    "\n",
    "df.shape, pred_df.shape"
   ]
  },
  {
   "cell_type": "code",
   "execution_count": 3,
   "metadata": {},
   "outputs": [],
   "source": [
    "# cols_to_agg = [['P31_S13', 'P32_S13'],\n",
    "#                ['P51', 'P53']]\n",
    "# new_cols = ['P3_S13',\n",
    "#             'P51+P53']\n",
    "\n",
    "# for i in range(len(new_cols)):\n",
    "#     df.insert(int(np.argwhere(np.array(df.columns) == cols_to_agg[i][0])[0, 0]), \n",
    "#                    new_cols[i], np.sum(df[cols_to_agg[i]], axis=1))\n",
    "#     df = df.drop(columns=cols_to_agg[i])\n",
    "\n",
    "#     pred_df.insert(int(np.argwhere(np.array(pred_df.columns) == cols_to_agg[i][0])[0, 0]), \n",
    "#                         new_cols[i], np.sum(pred_df[cols_to_agg[i]], axis=1))\n",
    "#     pred_df = pred_df.drop(columns=cols_to_agg[i])\n",
    "\n",
    "# df_shape = pred_df.shape\n",
    "# df.shape, pred_df.shape"
   ]
  },
  {
   "cell_type": "code",
   "execution_count": 39,
   "metadata": {},
   "outputs": [
    {
     "data": {
      "text/html": [
       "<div>\n",
       "<style scoped>\n",
       "    .dataframe tbody tr th:only-of-type {\n",
       "        vertical-align: middle;\n",
       "    }\n",
       "\n",
       "    .dataframe tbody tr th {\n",
       "        vertical-align: top;\n",
       "    }\n",
       "\n",
       "    .dataframe thead th {\n",
       "        text-align: right;\n",
       "    }\n",
       "</style>\n",
       "<table border=\"1\" class=\"dataframe\">\n",
       "  <thead>\n",
       "    <tr style=\"text-align: right;\">\n",
       "      <th></th>\n",
       "      <th>01</th>\n",
       "      <th>02</th>\n",
       "      <th>05</th>\n",
       "      <th>10</th>\n",
       "      <th>11</th>\n",
       "      <th>12</th>\n",
       "      <th>13</th>\n",
       "      <th>14</th>\n",
       "      <th>15</th>\n",
       "      <th>16</th>\n",
       "      <th>...</th>\n",
       "      <th>73</th>\n",
       "      <th>74</th>\n",
       "      <th>75</th>\n",
       "      <th>80</th>\n",
       "      <th>85</th>\n",
       "      <th>90</th>\n",
       "      <th>91</th>\n",
       "      <th>92</th>\n",
       "      <th>93</th>\n",
       "      <th>95</th>\n",
       "    </tr>\n",
       "    <tr>\n",
       "      <th>Коды</th>\n",
       "      <th></th>\n",
       "      <th></th>\n",
       "      <th></th>\n",
       "      <th></th>\n",
       "      <th></th>\n",
       "      <th></th>\n",
       "      <th></th>\n",
       "      <th></th>\n",
       "      <th></th>\n",
       "      <th></th>\n",
       "      <th></th>\n",
       "      <th></th>\n",
       "      <th></th>\n",
       "      <th></th>\n",
       "      <th></th>\n",
       "      <th></th>\n",
       "      <th></th>\n",
       "      <th></th>\n",
       "      <th></th>\n",
       "      <th></th>\n",
       "      <th></th>\n",
       "    </tr>\n",
       "  </thead>\n",
       "  <tbody>\n",
       "    <tr>\n",
       "      <th>01</th>\n",
       "      <td>702865.0</td>\n",
       "      <td>634.0</td>\n",
       "      <td>409.0</td>\n",
       "      <td>3.0</td>\n",
       "      <td>165.0</td>\n",
       "      <td>0.0</td>\n",
       "      <td>5.0</td>\n",
       "      <td>98.0</td>\n",
       "      <td>1306004.0</td>\n",
       "      <td>34676.0</td>\n",
       "      <td>...</td>\n",
       "      <td>1163.0</td>\n",
       "      <td>710.0</td>\n",
       "      <td>33688.0</td>\n",
       "      <td>5200.0</td>\n",
       "      <td>18044.0</td>\n",
       "      <td>116.0</td>\n",
       "      <td>634.0</td>\n",
       "      <td>1323.0</td>\n",
       "      <td>3107.0</td>\n",
       "      <td>0.0</td>\n",
       "    </tr>\n",
       "    <tr>\n",
       "      <th>02</th>\n",
       "      <td>883.0</td>\n",
       "      <td>15112.0</td>\n",
       "      <td>1.0</td>\n",
       "      <td>136.0</td>\n",
       "      <td>113.0</td>\n",
       "      <td>0.0</td>\n",
       "      <td>18.0</td>\n",
       "      <td>14.0</td>\n",
       "      <td>326.0</td>\n",
       "      <td>0.0</td>\n",
       "      <td>...</td>\n",
       "      <td>16.0</td>\n",
       "      <td>62.0</td>\n",
       "      <td>5586.0</td>\n",
       "      <td>166.0</td>\n",
       "      <td>215.0</td>\n",
       "      <td>12.0</td>\n",
       "      <td>18.0</td>\n",
       "      <td>140.0</td>\n",
       "      <td>112.0</td>\n",
       "      <td>0.0</td>\n",
       "    </tr>\n",
       "    <tr>\n",
       "      <th>05</th>\n",
       "      <td>64.0</td>\n",
       "      <td>0.0</td>\n",
       "      <td>4639.0</td>\n",
       "      <td>0.0</td>\n",
       "      <td>0.0</td>\n",
       "      <td>0.0</td>\n",
       "      <td>1.0</td>\n",
       "      <td>0.0</td>\n",
       "      <td>72672.0</td>\n",
       "      <td>0.0</td>\n",
       "      <td>...</td>\n",
       "      <td>77.0</td>\n",
       "      <td>11.0</td>\n",
       "      <td>643.0</td>\n",
       "      <td>13.0</td>\n",
       "      <td>311.0</td>\n",
       "      <td>1.0</td>\n",
       "      <td>32.0</td>\n",
       "      <td>97.0</td>\n",
       "      <td>0.0</td>\n",
       "      <td>0.0</td>\n",
       "    </tr>\n",
       "    <tr>\n",
       "      <th>10</th>\n",
       "      <td>1689.0</td>\n",
       "      <td>9.0</td>\n",
       "      <td>53.0</td>\n",
       "      <td>96308.0</td>\n",
       "      <td>427.0</td>\n",
       "      <td>6.0</td>\n",
       "      <td>371.0</td>\n",
       "      <td>147.0</td>\n",
       "      <td>1837.0</td>\n",
       "      <td>0.0</td>\n",
       "      <td>...</td>\n",
       "      <td>42.0</td>\n",
       "      <td>235.0</td>\n",
       "      <td>3026.0</td>\n",
       "      <td>760.0</td>\n",
       "      <td>2426.0</td>\n",
       "      <td>147.0</td>\n",
       "      <td>22.0</td>\n",
       "      <td>202.0</td>\n",
       "      <td>217.0</td>\n",
       "      <td>0.0</td>\n",
       "    </tr>\n",
       "    <tr>\n",
       "      <th>11</th>\n",
       "      <td>212.0</td>\n",
       "      <td>0.0</td>\n",
       "      <td>0.0</td>\n",
       "      <td>294.0</td>\n",
       "      <td>239950.0</td>\n",
       "      <td>0.0</td>\n",
       "      <td>0.0</td>\n",
       "      <td>167.0</td>\n",
       "      <td>84.0</td>\n",
       "      <td>0.0</td>\n",
       "      <td>...</td>\n",
       "      <td>6.0</td>\n",
       "      <td>3797.0</td>\n",
       "      <td>0.0</td>\n",
       "      <td>0.0</td>\n",
       "      <td>10.0</td>\n",
       "      <td>2.0</td>\n",
       "      <td>0.0</td>\n",
       "      <td>0.0</td>\n",
       "      <td>0.0</td>\n",
       "      <td>0.0</td>\n",
       "    </tr>\n",
       "  </tbody>\n",
       "</table>\n",
       "<p>5 rows × 59 columns</p>\n",
       "</div>"
      ],
      "text/plain": [
       "            01       02      05       10        11   12     13     14  \\\n",
       "Коды                                                                    \n",
       "01    702865.0    634.0   409.0      3.0     165.0  0.0    5.0   98.0   \n",
       "02       883.0  15112.0     1.0    136.0     113.0  0.0   18.0   14.0   \n",
       "05        64.0      0.0  4639.0      0.0       0.0  0.0    1.0    0.0   \n",
       "10      1689.0      9.0    53.0  96308.0     427.0  6.0  371.0  147.0   \n",
       "11       212.0      0.0     0.0    294.0  239950.0  0.0    0.0  167.0   \n",
       "\n",
       "             15       16 ...       73      74       75      80       85  \\\n",
       "Коды                     ...                                              \n",
       "01    1306004.0  34676.0 ...   1163.0   710.0  33688.0  5200.0  18044.0   \n",
       "02        326.0      0.0 ...     16.0    62.0   5586.0   166.0    215.0   \n",
       "05      72672.0      0.0 ...     77.0    11.0    643.0    13.0    311.0   \n",
       "10       1837.0      0.0 ...     42.0   235.0   3026.0   760.0   2426.0   \n",
       "11         84.0      0.0 ...      6.0  3797.0      0.0     0.0     10.0   \n",
       "\n",
       "         90     91      92      93   95  \n",
       "Коды                                     \n",
       "01    116.0  634.0  1323.0  3107.0  0.0  \n",
       "02     12.0   18.0   140.0   112.0  0.0  \n",
       "05      1.0   32.0    97.0     0.0  0.0  \n",
       "10    147.0   22.0   202.0   217.0  0.0  \n",
       "11      2.0    0.0     0.0     0.0  0.0  \n",
       "\n",
       "[5 rows x 59 columns]"
      ]
     },
     "execution_count": 39,
     "metadata": {},
     "output_type": "execute_result"
    }
   ],
   "source": [
    "df.head()"
   ]
  },
  {
   "cell_type": "code",
   "execution_count": 40,
   "metadata": {},
   "outputs": [
    {
     "data": {
      "text/plain": [
       "array([[7.02865e+05],\n",
       "       [8.83000e+02],\n",
       "       [6.40000e+01],\n",
       "       ...,\n",
       "       [0.00000e+00],\n",
       "       [0.00000e+00],\n",
       "       [0.00000e+00]])"
      ]
     },
     "execution_count": 40,
     "metadata": {},
     "output_type": "execute_result"
    }
   ],
   "source": [
    "# Sums of rows\\columns\n",
    "sums_rows = pred_df.sum(axis=1).values.reshape(-1, 1)\n",
    "sums_cols = pred_df.sum(axis=0).values.reshape(-1, 1)\n",
    "\n",
    "# Vectorization of matrixa\n",
    "vect_a = v.tovector(df.values)\n",
    "vect_a"
   ]
  },
  {
   "cell_type": "code",
   "execution_count": 41,
   "metadata": {},
   "outputs": [
    {
     "data": {
      "text/plain": [
       "((62, 1), (59, 1))"
      ]
     },
     "execution_count": 41,
     "metadata": {},
     "output_type": "execute_result"
    }
   ],
   "source": [
    "sums_rows.shape, sums_cols.shape"
   ]
  },
  {
   "cell_type": "code",
   "execution_count": 42,
   "metadata": {},
   "outputs": [
    {
     "name": "stdout",
     "output_type": "stream",
     "text": [
      "(121, 1)\n"
     ]
    },
    {
     "data": {
      "text/plain": [
       "array([[1., 0., 0., ..., 0., 0., 0.],\n",
       "       [0., 1., 0., ..., 0., 0., 0.],\n",
       "       [0., 0., 1., ..., 0., 0., 0.],\n",
       "       ...,\n",
       "       [0., 0., 0., ..., 0., 0., 0.],\n",
       "       [0., 0., 0., ..., 0., 0., 0.],\n",
       "       [0., 0., 0., ..., 1., 1., 1.]])"
      ]
     },
     "execution_count": 42,
     "metadata": {},
     "output_type": "execute_result"
    }
   ],
   "source": [
    "# Merge column of constraints\n",
    "c = np.append(sums_rows, sums_cols, axis=0)\n",
    "print(c.shape)\n",
    "\n",
    "# Create matrix G of coefficients of constraints \n",
    "G = v.addrows(df_shape, sparsed=True) # Use \"sparsed\" parameter everywhere if want use fast sparsed matrix\n",
    "G = v.addcolumns(df_shape, G, sparsed=True) # Use \"sparsed\" parameter everywhere if want use fast sparsed matrix\n",
    "G.toarray()"
   ]
  },
  {
   "cell_type": "code",
   "execution_count": 43,
   "metadata": {},
   "outputs": [
    {
     "data": {
      "text/plain": [
       "(121, 3658)"
      ]
     },
     "execution_count": 43,
     "metadata": {},
     "output_type": "execute_result"
    }
   ],
   "source": [
    "G.shape"
   ]
  },
  {
   "cell_type": "code",
   "execution_count": 44,
   "metadata": {},
   "outputs": [
    {
     "data": {
      "text/plain": [
       "<matplotlib.image.AxesImage at 0x1ed6c8e39b0>"
      ]
     },
     "execution_count": 44,
     "metadata": {},
     "output_type": "execute_result"
    },
    {
     "data": {
      "image/png": "[encoded data removed]",
      "text/plain": [
       "<matplotlib.figure.Figure at 0x1ed5d4a49b0>"
      ]
     },
     "metadata": {},
     "output_type": "display_data"
    }
   ],
   "source": [
    "# Look on the distribution of 0s and 1s in matrix of coefficients G\n",
    "plt.spy(G.toarray(), aspect='auto')"
   ]
  },
  {
   "cell_type": "code",
   "execution_count": 45,
   "metadata": {},
   "outputs": [
    {
     "data": {
      "text/html": [
       "<div>\n",
       "<style scoped>\n",
       "    .dataframe tbody tr th:only-of-type {\n",
       "        vertical-align: middle;\n",
       "    }\n",
       "\n",
       "    .dataframe tbody tr th {\n",
       "        vertical-align: top;\n",
       "    }\n",
       "\n",
       "    .dataframe thead th {\n",
       "        text-align: right;\n",
       "    }\n",
       "</style>\n",
       "<table border=\"1\" class=\"dataframe\">\n",
       "  <thead>\n",
       "    <tr style=\"text-align: right;\">\n",
       "      <th></th>\n",
       "      <th>N0</th>\n",
       "      <th>PSISTAT</th>\n",
       "      <th>RSQ</th>\n",
       "      <th>MAPE</th>\n",
       "      <th>SWAD</th>\n",
       "      <th>WAPE</th>\n",
       "    </tr>\n",
       "  </thead>\n",
       "  <tbody>\n",
       "    <tr>\n",
       "      <th>2011</th>\n",
       "      <td>450</td>\n",
       "      <td>0.0142</td>\n",
       "      <td>0.9806</td>\n",
       "      <td>100.0215</td>\n",
       "      <td>0.0935</td>\n",
       "      <td>15.6903</td>\n",
       "    </tr>\n",
       "  </tbody>\n",
       "</table>\n",
       "</div>"
      ],
      "text/plain": [
       "       N0  PSISTAT     RSQ      MAPE    SWAD     WAPE\n",
       "2011  450   0.0142  0.9806  100.0215  0.0935  15.6903"
      ]
     },
     "execution_count": 45,
     "metadata": {},
     "output_type": "execute_result"
    }
   ],
   "source": [
    "# Run method of projection - NRAS(~181 ms) and got metrics and result matrix \n",
    "res_df = nras.nras(G=G, aa=vect_a, c=c, accuracy=0.001, limit = 1000, sparsed=True)\n",
    "simple_metics = pd.DataFrame.from_dict({2011: metrics.get_values(res_df, pred_df.values, save=True, shape=df_shape)}, orient='index')\n",
    "simple_metics"
   ]
  },
  {
   "cell_type": "code",
   "execution_count": 46,
   "metadata": {},
   "outputs": [
    {
     "data": {
      "text/plain": [
       "2011"
      ]
     },
     "execution_count": 46,
     "metadata": {},
     "output_type": "execute_result"
    }
   ],
   "source": [
    "simple_metics.index[0]"
   ]
  },
  {
   "cell_type": "code",
   "execution_count": 47,
   "metadata": {},
   "outputs": [],
   "source": [
    "# Create matrix G of coefficients of constraints \n",
    "G = v.addrows(df_shape, sparsed=True)\n",
    "G = v.addcolumns(df_shape, G, sparsed=True) \n",
    "\n",
    "def apply_method(initial_est, true_table, method=nras.nras):        \n",
    "    sums_rows = true_table.sum(axis=1).reshape(-1, 1)\n",
    "    sums_cols = true_table.sum(axis=0).reshape(-1, 1)\n",
    "    c = np.append(sums_rows, sums_cols, axis=0)\n",
    "\n",
    "    vect_a = v.tovector(initial_est)\n",
    "\n",
    "    pred_table = method(G=G, aa=vect_a, c=c, accuracy=0.001, limit=1000, sparsed=True)\n",
    "    \n",
    "    return v.tomatrix(pred_table, shape=df_shape)"
   ]
  },
  {
   "cell_type": "code",
   "execution_count": 48,
   "metadata": {
    "collapsed": true
   },
   "outputs": [],
   "source": [
    "def get_metrics_for_series(true_tables, pred_tables):\n",
    "    start_year = list(true_tables.keys())[0]\n",
    "    final_year = list(true_tables.keys())[-1]\n",
    "\n",
    "    for y in range(start_year + 1, final_year + 1):\n",
    "        true_table_y = true_tables[y]\n",
    "        pred_table_y = pred_tables[y]\n",
    "        \n",
    "        res_metrics = metrics.get_values(pred_table_y, true_table_y, save=True)\n",
    "        if y == start_year + 1:\n",
    "            constr_metrics = pd.DataFrame.from_dict({y: res_metrics}, orient='index')\n",
    "        else:\n",
    "            constr_metrics = pd.concat((constr_metrics, \n",
    "                                        pd.DataFrame.from_dict({y: res_metrics}, orient='index')), \n",
    "                                       axis=0)\n",
    "        \n",
    "    return constr_metrics"
   ]
  },
  {
   "cell_type": "markdown",
   "metadata": {},
   "source": [
    "## Time series SUTs for RU 2011-2016"
   ]
  },
  {
   "cell_type": "code",
   "execution_count": 49,
   "metadata": {
    "collapsed": true
   },
   "outputs": [],
   "source": [
    "years = np.arange(2011, 2017)\n",
    "\n",
    "true_tables = dict.fromkeys(years)\n",
    "true_tables[2011] = df.values\n",
    "true_tables[2016] = pred_df.values"
   ]
  },
  {
   "cell_type": "code",
   "execution_count": 50,
   "metadata": {},
   "outputs": [
    {
     "name": "stdout",
     "output_type": "stream",
     "text": [
      "2012 (62, 59)\n",
      "2013 (62, 59)\n",
      "2014 (62, 59)\n",
      "2015 (62, 59)\n"
     ]
    }
   ],
   "source": [
    "for y in years[1:-1]:\n",
    "    true_table = pd.read_excel('./data/tri-' + str(y) + '.xlsx', 'ТИоц', skiprows=2, index_col=1)\n",
    "    true_table = true_table.iloc[1:63, 2:-11].astype(np.float)    \n",
    "#     true_table = true_table.drop(columns=true_table.columns[[-11, -7, -4, -2, -1]])\n",
    "    true_tables[y] = true_table.values\n",
    "    print(y, true_table.shape)"
   ]
  },
  {
   "cell_type": "code",
   "execution_count": 51,
   "metadata": {},
   "outputs": [
    {
     "data": {
      "text/plain": [
       "array([[7.02865e+05, 6.34000e+02, 4.09000e+02, ..., 1.32300e+03,\n",
       "        3.10700e+03, 0.00000e+00],\n",
       "       [8.83000e+02, 1.51120e+04, 1.00000e+00, ..., 1.40000e+02,\n",
       "        1.12000e+02, 0.00000e+00],\n",
       "       [6.40000e+01, 0.00000e+00, 4.63900e+03, ..., 9.70000e+01,\n",
       "        0.00000e+00, 0.00000e+00],\n",
       "       ...,\n",
       "       [0.00000e+00, 0.00000e+00, 0.00000e+00, ..., 0.00000e+00,\n",
       "        0.00000e+00, 0.00000e+00],\n",
       "       [0.00000e+00, 0.00000e+00, 0.00000e+00, ..., 0.00000e+00,\n",
       "        0.00000e+00, 0.00000e+00],\n",
       "       [0.00000e+00, 0.00000e+00, 0.00000e+00, ..., 0.00000e+00,\n",
       "        0.00000e+00, 0.00000e+00]])"
      ]
     },
     "execution_count": 51,
     "metadata": {},
     "output_type": "execute_result"
    }
   ],
   "source": [
    "true_tables[2011]"
   ]
  },
  {
   "cell_type": "code",
   "execution_count": 52,
   "metadata": {
    "collapsed": true
   },
   "outputs": [],
   "source": [
    "def construct_time_series(true_tables):        \n",
    "    start_year = list(true_tables.keys())[0]\n",
    "    final_year = list(true_tables.keys())[-1]\n",
    "    \n",
    "    time_series = np.array([true_tables[start_year]])\n",
    "    \n",
    "    table_y = true_tables[start_year]\n",
    "    \n",
    "    for y in np.arange(start_year + 1, final_year + 1):\n",
    "        true_table_y = true_tables[y]\n",
    "        \n",
    "        table_y = apply_method(table_y, true_table_y)        \n",
    "        time_series = np.vstack((time_series, [table_y]))\n",
    "        \n",
    "    return dict(zip(np.arange(start_year, final_year + 1), time_series))        "
   ]
  },
  {
   "cell_type": "code",
   "execution_count": 53,
   "metadata": {},
   "outputs": [
    {
     "data": {
      "text/plain": [
       "(62, 59)"
      ]
     },
     "execution_count": 53,
     "metadata": {},
     "output_type": "execute_result"
    }
   ],
   "source": [
    "time_series = construct_time_series(true_tables)\n",
    "time_series[2011].shape"
   ]
  },
  {
   "cell_type": "code",
   "execution_count": 54,
   "metadata": {},
   "outputs": [
    {
     "data": {
      "text/html": [
       "<div>\n",
       "<style scoped>\n",
       "    .dataframe tbody tr th:only-of-type {\n",
       "        vertical-align: middle;\n",
       "    }\n",
       "\n",
       "    .dataframe tbody tr th {\n",
       "        vertical-align: top;\n",
       "    }\n",
       "\n",
       "    .dataframe thead th {\n",
       "        text-align: right;\n",
       "    }\n",
       "</style>\n",
       "<table border=\"1\" class=\"dataframe\">\n",
       "  <thead>\n",
       "    <tr style=\"text-align: right;\">\n",
       "      <th></th>\n",
       "      <th>N0</th>\n",
       "      <th>PSISTAT</th>\n",
       "      <th>RSQ</th>\n",
       "      <th>MAPE</th>\n",
       "      <th>SWAD</th>\n",
       "      <th>WAPE</th>\n",
       "    </tr>\n",
       "  </thead>\n",
       "  <tbody>\n",
       "    <tr>\n",
       "      <th>2012</th>\n",
       "      <td>390</td>\n",
       "      <td>0.0025</td>\n",
       "      <td>0.9978</td>\n",
       "      <td>11.3910</td>\n",
       "      <td>0.0249</td>\n",
       "      <td>6.0148</td>\n",
       "    </tr>\n",
       "    <tr>\n",
       "      <th>2013</th>\n",
       "      <td>383</td>\n",
       "      <td>0.0045</td>\n",
       "      <td>0.9953</td>\n",
       "      <td>17.2912</td>\n",
       "      <td>0.0437</td>\n",
       "      <td>8.5321</td>\n",
       "    </tr>\n",
       "    <tr>\n",
       "      <th>2014</th>\n",
       "      <td>378</td>\n",
       "      <td>0.0059</td>\n",
       "      <td>0.9936</td>\n",
       "      <td>28.1549</td>\n",
       "      <td>0.0553</td>\n",
       "      <td>9.8512</td>\n",
       "    </tr>\n",
       "    <tr>\n",
       "      <th>2015</th>\n",
       "      <td>379</td>\n",
       "      <td>0.0077</td>\n",
       "      <td>0.9908</td>\n",
       "      <td>33.5651</td>\n",
       "      <td>0.0657</td>\n",
       "      <td>11.2137</td>\n",
       "    </tr>\n",
       "    <tr>\n",
       "      <th>2016</th>\n",
       "      <td>450</td>\n",
       "      <td>0.0142</td>\n",
       "      <td>0.9806</td>\n",
       "      <td>100.0215</td>\n",
       "      <td>0.0935</td>\n",
       "      <td>15.6903</td>\n",
       "    </tr>\n",
       "  </tbody>\n",
       "</table>\n",
       "</div>"
      ],
      "text/plain": [
       "       N0  PSISTAT     RSQ      MAPE    SWAD     WAPE\n",
       "2012  390   0.0025  0.9978   11.3910  0.0249   6.0148\n",
       "2013  383   0.0045  0.9953   17.2912  0.0437   8.5321\n",
       "2014  378   0.0059  0.9936   28.1549  0.0553   9.8512\n",
       "2015  379   0.0077  0.9908   33.5651  0.0657  11.2137\n",
       "2016  450   0.0142  0.9806  100.0215  0.0935  15.6903"
      ]
     },
     "execution_count": 54,
     "metadata": {},
     "output_type": "execute_result"
    }
   ],
   "source": [
    "metrics_nras = get_metrics_for_series(true_tables, time_series)\n",
    "metrics_nras"
   ]
  },
  {
   "cell_type": "markdown",
   "metadata": {},
   "source": [
    " ## Cycling method"
   ]
  },
  {
   "cell_type": "markdown",
   "metadata": {},
   "source": [
    "$alpha = 1 \\Rightarrow$ the initial estimate is always and only taken from the same-year solution of the prior cycle\n",
    "\n",
    "$alpha = 0 \\Rightarrow$ the initial estimate ignores any prior cycle and only ever considers same-cycle, prior-year values"
   ]
  },
  {
   "cell_type": "code",
   "execution_count": 55,
   "metadata": {
    "collapsed": true
   },
   "outputs": [],
   "source": [
    "def cycling_method(true_tables, max_cycles, alpha=0.5, eps=0.01):\n",
    "    start_year = list(true_tables.keys())[0]\n",
    "    final_year = list(true_tables.keys())[-1]\n",
    "    \n",
    "    a = np.expand_dims(list(construct_time_series(true_tables).values()), 0)\n",
    "    a[0, -1] = true_tables[final_year]\n",
    "    \n",
    "    w = np.array([[0, alpha], [1 - alpha, 0]])\n",
    "    \n",
    "    tables_shape = true_tables[start_year].shape\n",
    "    \n",
    "    true_tables_arr = np.array(list(true_tables.values()))\n",
    "    \n",
    "    y = final_year - start_year\n",
    "    for c in range(1, max_cycles):\n",
    "        print('cycle no:', c)\n",
    "        \n",
    "        a_c = np.zeros((1, final_year - start_year + 1, tables_shape[0], tables_shape[1]))\n",
    "        a_c[0, 0] = true_tables[start_year]\n",
    "        a_c[0, -1] = true_tables[final_year]\n",
    "        a = np.vstack((a, a_c))\n",
    "        \n",
    "        for i in range(final_year - start_year - 1):\n",
    "            increment = 1 if c % 2 == 0 else -1\n",
    "            y = y + increment\n",
    "            initial_est = w[0, 0] * a[c, y] + w[0, 1] * a[c, y - increment] + \\\n",
    "                          w[1, 0] * a[c - 1, y] + w[1, 1] * a[c - 1, y - increment]\n",
    "            a[c, y] = apply_method(initial_est, true_tables_arr[y])\n",
    "        \n",
    "        a_avg = np.average(a[-2:], axis=0)   \n",
    "        if np.average(np.abs(a[c - 1] - a[c]) / a[c - 1]) < eps:\n",
    "            break\n",
    "        \n",
    "        y = y + increment\n",
    "        \n",
    "    return dict(zip(np.arange(start_year, final_year + 1), a_avg))"
   ]
  },
  {
   "cell_type": "code",
   "execution_count": 56,
   "metadata": {},
   "outputs": [
    {
     "name": "stdout",
     "output_type": "stream",
     "text": [
      "cycle no: 1\n",
      "cycle no: 2\n",
      "cycle no: 3\n",
      "cycle no: 4\n",
      "cycle no: 5\n",
      "cycle no: 6\n",
      "cycle no: 7\n",
      "cycle no: 8\n",
      "cycle no: 9\n"
     ]
    },
    {
     "data": {
      "text/plain": [
       "(62, 59)"
      ]
     },
     "execution_count": 56,
     "metadata": {},
     "output_type": "execute_result"
    }
   ],
   "source": [
    "time_series_cyc = cycling_method(true_tables, 10)\n",
    "time_series_cyc[2011].shape"
   ]
  },
  {
   "cell_type": "code",
   "execution_count": 57,
   "metadata": {},
   "outputs": [
    {
     "data": {
      "text/html": [
       "<div>\n",
       "<style scoped>\n",
       "    .dataframe tbody tr th:only-of-type {\n",
       "        vertical-align: middle;\n",
       "    }\n",
       "\n",
       "    .dataframe tbody tr th {\n",
       "        vertical-align: top;\n",
       "    }\n",
       "\n",
       "    .dataframe thead th {\n",
       "        text-align: right;\n",
       "    }\n",
       "</style>\n",
       "<table border=\"1\" class=\"dataframe\">\n",
       "  <thead>\n",
       "    <tr style=\"text-align: right;\">\n",
       "      <th></th>\n",
       "      <th>N0</th>\n",
       "      <th>PSISTAT</th>\n",
       "      <th>RSQ</th>\n",
       "      <th>MAPE</th>\n",
       "      <th>SWAD</th>\n",
       "      <th>WAPE</th>\n",
       "    </tr>\n",
       "  </thead>\n",
       "  <tbody>\n",
       "    <tr>\n",
       "      <th>2012</th>\n",
       "      <td>390</td>\n",
       "      <td>0.0023</td>\n",
       "      <td>0.9979</td>\n",
       "      <td>16.4534</td>\n",
       "      <td>0.0273</td>\n",
       "      <td>5.7558</td>\n",
       "    </tr>\n",
       "    <tr>\n",
       "      <th>2013</th>\n",
       "      <td>383</td>\n",
       "      <td>0.0038</td>\n",
       "      <td>0.9960</td>\n",
       "      <td>25.5525</td>\n",
       "      <td>0.0420</td>\n",
       "      <td>7.9099</td>\n",
       "    </tr>\n",
       "    <tr>\n",
       "      <th>2014</th>\n",
       "      <td>378</td>\n",
       "      <td>0.0044</td>\n",
       "      <td>0.9962</td>\n",
       "      <td>37.2006</td>\n",
       "      <td>0.0381</td>\n",
       "      <td>8.3011</td>\n",
       "    </tr>\n",
       "    <tr>\n",
       "      <th>2015</th>\n",
       "      <td>379</td>\n",
       "      <td>0.0048</td>\n",
       "      <td>0.9967</td>\n",
       "      <td>43.5134</td>\n",
       "      <td>0.0303</td>\n",
       "      <td>8.3529</td>\n",
       "    </tr>\n",
       "  </tbody>\n",
       "</table>\n",
       "</div>"
      ],
      "text/plain": [
       "       N0  PSISTAT     RSQ     MAPE    SWAD    WAPE\n",
       "2012  390   0.0023  0.9979  16.4534  0.0273  5.7558\n",
       "2013  383   0.0038  0.9960  25.5525  0.0420  7.9099\n",
       "2014  378   0.0044  0.9962  37.2006  0.0381  8.3011\n",
       "2015  379   0.0048  0.9967  43.5134  0.0303  8.3529"
      ]
     },
     "execution_count": 57,
     "metadata": {},
     "output_type": "execute_result"
    }
   ],
   "source": [
    "metrics_nras_cyc = get_metrics_for_series(true_tables, time_series_cyc).iloc[:-1]\n",
    "metrics_nras_cyc"
   ]
  },
  {
   "cell_type": "markdown",
   "metadata": {},
   "source": [
    "## Compare results"
   ]
  },
  {
   "cell_type": "code",
   "execution_count": 58,
   "metadata": {},
   "outputs": [
    {
     "data": {
      "text/plain": [
       "['N0', 'PSISTAT', 'RSQ', 'MAPE', 'SWAD', 'WAPE']"
      ]
     },
     "execution_count": 58,
     "metadata": {},
     "output_type": "execute_result"
    }
   ],
   "source": [
    "metrics_names = list(simple_metics.keys())\n",
    "metrics_names"
   ]
  },
  {
   "cell_type": "code",
   "execution_count": 59,
   "metadata": {
    "collapsed": true
   },
   "outputs": [],
   "source": [
    "metrics_res_dict = {#'1 nras to target year': simple_metics, \n",
    "                    '2 year-by-year nras': metrics_nras.iloc[:-1, :],\n",
    "                    '3 cycling nras': metrics_nras_cyc}"
   ]
  },
  {
   "cell_type": "code",
   "execution_count": 60,
   "metadata": {},
   "outputs": [
    {
     "data": {
      "image/png": "[encoded data removed]",
      "text/plain": [
       "<matplotlib.figure.Figure at 0x1ed6c921cc0>"
      ]
     },
     "metadata": {},
     "output_type": "display_data"
    }
   ],
   "source": [
    "fig, ax = plt.subplots(2, 3, figsize=(15, 10))\n",
    " \n",
    "ind = 0\n",
    "for i in range(ax.shape[0]):    \n",
    "    for j in range(ax.shape[1]):        \n",
    "        for method, metrics_res in metrics_res_dict.items():\n",
    "            if method == '1 nras to target year':\n",
    "                ax[i, j].scatter(2016, metrics_res[metrics_names[ind]], label=method)\n",
    "            else:\n",
    "                ax[i, j].plot(metrics_res[metrics_names[ind]], label=method)\n",
    "                \n",
    "        ax[i, j].set_title(metrics_names[ind])\n",
    "        ax[i, j].legend()\n",
    "        ind += 1\n",
    "        \n",
    "plt.show()"
   ]
  },
  {
   "cell_type": "markdown",
   "metadata": {
    "collapsed": true
   },
   "source": [
    "## MTT II method"
   ]
  },
  {
   "cell_type": "code",
   "execution_count": 25,
   "metadata": {
    "collapsed": true
   },
   "outputs": [],
   "source": [
    "from sklearn.linear_model import LinearRegression as lr"
   ]
  },
  {
   "cell_type": "code",
   "execution_count": 26,
   "metadata": {
    "collapsed": true
   },
   "outputs": [],
   "source": [
    "def transform_mtt2(true_tables_arr):    \n",
    "    transformed_tables = np.zeros((true_tables_arr.shape[0], \n",
    "                                   true_tables_arr.shape[1] - 1, \n",
    "                                   true_tables_arr.shape[2] - 1), dtype='float')\n",
    "    \n",
    "    for i in range(true_tables_arr.shape[0]):\n",
    "        u = true_tables_arr[i, :-1, :-1]\n",
    "        u = u / np.repeat(true_tables_arr[i, :-1, -1:], u.shape[1], axis=1)\n",
    "        \n",
    "        transformed_tables[i] = u\n",
    "    \n",
    "    return transformed_tables"
   ]
  },
  {
   "cell_type": "code",
   "execution_count": 27,
   "metadata": {},
   "outputs": [
    {
     "data": {
      "text/plain": [
       "array([[[ True,  True],\n",
       "        [ True,  True]],\n",
       "\n",
       "       [[ True,  True],\n",
       "        [ True,  True]],\n",
       "\n",
       "       [[ True,  True],\n",
       "        [ True,  True]]])"
      ]
     },
     "execution_count": 27,
     "metadata": {},
     "output_type": "execute_result"
    }
   ],
   "source": [
    "z = np.array([[[1, 2, 3], \n",
    "               [4, 5, 6],\n",
    "               [7, 8, 9]], \n",
    "              [[10, 11, 12], \n",
    "               [13, 14, 15],\n",
    "               [16, 17, 18]],\n",
    "              [[19, 20, 21],\n",
    "               [22, 23, 24],\n",
    "               [25, 26, 27]]])\n",
    "u = transform_mtt2(z)\n",
    "u == np.array([[[1/3, 2/3],\n",
    "                [4/6, 5/6]],\n",
    "               [[10/12, 11/12],\n",
    "                [13/15, 14/15]],\n",
    "               [[19/21, 20/21],\n",
    "                [22/24, 23/24]]])"
   ]
  },
  {
   "cell_type": "code",
   "execution_count": 28,
   "metadata": {
    "collapsed": true
   },
   "outputs": [],
   "source": [
    "def inverse_transform_mtt2(f, u):\n",
    "    x = np.zeros((u.shape[0], u.shape[1] + 1), dtype='float')\n",
    "    \n",
    "    for j in range(u.shape[0]):\n",
    "        for k in range(u.shape[1]):\n",
    "            x[j, k] = u[j, k] * f[j] / (1 + np.sum(u[j]))\n",
    "        x[j, -1] = f[j] / (1 + np.sum(u[j]))  \n",
    "                           \n",
    "    return x"
   ]
  },
  {
   "cell_type": "code",
   "execution_count": 29,
   "metadata": {
    "collapsed": true
   },
   "outputs": [],
   "source": [
    "# x = inverse_transform_mtt2(z, u)\n",
    "# x"
   ]
  },
  {
   "cell_type": "code",
   "execution_count": 30,
   "metadata": {
    "collapsed": true
   },
   "outputs": [],
   "source": [
    "def mtt2(true_tables, intermediate_shape):\n",
    "    start_year = list(true_tables.keys())[0]\n",
    "    final_year = list(true_tables.keys())[-1]\n",
    "    \n",
    "    true_tables_arr = np.array(list(true_tables.values()))\n",
    "    \n",
    "    tables_shape = true_tables[start_year].shape\n",
    "    \n",
    "    u_base = transform_mtt2(true_tables_arr[:2, : intermediate_shape[0], : intermediate_shape[1]])\n",
    "    \n",
    "    f = np.full_like(u_base[0], lr(), dtype=lr)\n",
    "    for i in range(f.shape[0]):\n",
    "        for j in range(f.shape[1]):\n",
    "            x = np.array([[1], [2]])\n",
    "            y = np.array([u_base[0][i, j], u_base[1][i, j]])\n",
    "            f[i, j].fit(x, y)\n",
    "            \n",
    "    pred_tables_arr = np.zeros((true_tables_arr.shape[0], intermediate_shape[0] + 1, intermediate_shape[1] + 1), dtype='float')\n",
    "    pred_tables_arr[:2] = true_tables_arr[:2]\n",
    "\n",
    "    for i in range(2, pred_tables_arr.shape[0]):\n",
    "        u = np.zeros_like(u_base[0], dtype='float')\n",
    "        for j in range(u_base.shape[1]):\n",
    "            for k in range(u_base.shape[2]):\n",
    "                u[j, k] = f[j, k].predict(i)\n",
    "                        \n",
    "        intermediate_out = np.sum(true_tables_arr[i, : intermediate_shape[0], : intermediate_shape[1]], axis=0)\n",
    "        intermediate_in = np.sum(true_tables_arr[i, : intermediate_shape[0]:, : intermediate_shape[1]], axis=1)\n",
    "        gross_out = np.sum(true_tables_arr[i, :, : intermediate_shape[1]], axis=0)\n",
    "        \n",
    "        pred_tables_arr[i, : u.shape[0], : u.shape[1] + 1] = inverse_transform_mtt2(intermediate_out, u)\n",
    "\n",
    "        pred_tables_arr[i, intermediate_shape[0] - 1, : intermediate_shape[1]] = intermediate_out - np.sum(pred_tables_arr[i, :, : intermediate_shape[1]], axis=0)\n",
    "\n",
    "        pred_tables_arr[i, intermediate_shape[0],  : intermediate_shape[1]] = gross_out - intermediate_out\n",
    "        pred_tables_arr[i, : intermediate_shape[0], intermediate_shape[1]] = gross_out - intermediate_in\n",
    "        pred_tables_arr[i, -1, -1] = np.sum(pred_tables_arr[i, -1])\n",
    "                \n",
    "    return dict(zip(np.arange(start_year, final_year + 1), pred_tables_arr))"
   ]
  },
  {
   "cell_type": "code",
   "execution_count": 31,
   "metadata": {},
   "outputs": [
    {
     "data": {
      "text/plain": [
       "{1: array([[1., 1., 1., 1.],\n",
       "        [1., 1., 1., 1.],\n",
       "        [1., 1., 1., 1.],\n",
       "        [1., 1., 1., 1.]]), 2: array([[2., 2., 2., 2.],\n",
       "        [2., 2., 2., 2.],\n",
       "        [2., 2., 2., 2.],\n",
       "        [2., 2., 2., 2.]]), 3: array([[3., 3., 3., 3.],\n",
       "        [3., 3., 3., 3.],\n",
       "        [3., 3., 3., 3.],\n",
       "        [3., 3., 3., 9.]])}"
      ]
     },
     "execution_count": 31,
     "metadata": {},
     "output_type": "execute_result"
    }
   ],
   "source": [
    "mtt2(dict(zip([1, 2, 3], np.array([np.full((4, 4), 1), np.full((4, 4), 2), np.full((4, 4), 3)]))), (3, 3))"
   ]
  },
  {
   "cell_type": "markdown",
   "metadata": {},
   "source": [
    "## Time series IOTs for RU"
   ]
  },
  {
   "cell_type": "code",
   "execution_count": null,
   "metadata": {
    "collapsed": true
   },
   "outputs": [],
   "source": []
  }
 ],
 "metadata": {
  "kernelspec": {
   "display_name": "Python 3",
   "language": "python",
   "name": "python3"
  },
  "language_info": {
   "codemirror_mode": {
    "name": "ipython",
    "version": 3
   },
   "file_extension": ".py",
   "mimetype": "text/x-python",
   "name": "python",
   "nbconvert_exporter": "python",
   "pygments_lexer": "ipython3",
   "version": "3.6.3"
  }
 },
 "nbformat": 4,
 "nbformat_minor": 2
}
