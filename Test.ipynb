{
 "cells": [
  {
   "cell_type": "code",
   "execution_count": 9,
   "metadata": {},
   "outputs": [],
   "source": [
    "from scripts import support\n",
    "from scipy import sparse\n",
    "import pandas as pd\n",
    "import numpy as np\n",
    "import os\n",
    "import re"
   ]
  },
  {
   "cell_type": "code",
   "execution_count": 2,
   "metadata": {},
   "outputs": [
    {
     "name": "stdout",
     "output_type": "stream",
     "text": [
      "Обрабатываем данные из таблицы в формате Rosstat \"Вычисленная по модели B симметричная таблица по импортной  продукции за 2011 год (млн. рублей)\"\n",
      "Обрабатываем данные из таблицы в формате Rosstat \"Cимметричная таблица \"ЗАТРАТЫ-ВЫПУСК\"  импортной продукции за 2014 год (млн. рублей)\"\n"
     ]
    },
    {
     "data": {
      "text/plain": [
       "'2011-2014'"
      ]
     },
     "execution_count": 2,
     "metadata": {},
     "output_type": "execute_result"
    }
   ],
   "source": [
    "# Создаем новый экземпляр класса, загружаем данные и готовим их к декомпозиции\n",
    "path_and_sheetnames = {\"./data/all2011.xlsx\": ['SD calculated def', 'SM calculated def'],\n",
    "                       \"./data/all2014 (проверочная).xlsx\": ['SD calculated def', 'SM calculated def']}\n",
    "\n",
    "codes, years, df_d, df_m =support.load_Rosstat_separated_data(**path_and_sheetnames)\n",
    "years"
   ]
  },
  {
   "cell_type": "code",
   "execution_count": 8,
   "metadata": {},
   "outputs": [
    {
     "data": {
      "text/plain": [
       "pandas.core.sparse.frame.SparseDataFrame"
      ]
     },
     "execution_count": 8,
     "metadata": {},
     "output_type": "execute_result"
    }
   ],
   "source": [
    "sparsed = df_d[0].to_sparse()\n",
    "type(sparsed)"
   ]
  },
  {
   "cell_type": "code",
   "execution_count": 3,
   "metadata": {},
   "outputs": [
    {
     "data": {
      "text/plain": [
       "'мяумя за 2020-21000гг(2019)'"
      ]
     },
     "execution_count": 3,
     "metadata": {},
     "output_type": "execute_result"
    }
   ],
   "source": [
    "support.pack_name(\"мяумя\",'2020-21000','2019')"
   ]
  },
  {
   "cell_type": "code",
   "execution_count": 4,
   "metadata": {
    "scrolled": true
   },
   "outputs": [],
   "source": [
    "# Сохраняем таблицы в файл постранично \n",
    "df_d[0].columns.name = \"Отечественный выпуск0\"\n",
    "result_tables = {support.pack_name(\"Отечественный выпуск0\",years,'2008'): df_d[0]}\n",
    "support.save_to_excel(\"test_res.xlsx\", years, codes, **result_tables)"
   ]
  },
  {
   "cell_type": "code",
   "execution_count": null,
   "metadata": {
    "collapsed": true
   },
   "outputs": [],
   "source": []
  }
 ],
 "metadata": {
  "kernelspec": {
   "display_name": "Python 3",
   "language": "python",
   "name": "python3"
  },
  "language_info": {
   "codemirror_mode": {
    "name": "ipython",
    "version": 3
   },
   "file_extension": ".py",
   "mimetype": "text/x-python",
   "name": "python",
   "nbconvert_exporter": "python",
   "pygments_lexer": "ipython3",
   "version": "3.6.7"
  }
 },
 "nbformat": 4,
 "nbformat_minor": 2
}
