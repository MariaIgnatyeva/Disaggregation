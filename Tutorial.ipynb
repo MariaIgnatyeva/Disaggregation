{
 "cells": [
  {
   "cell_type": "code",
   "execution_count": 1,
   "metadata": {
    "collapsed": true
   },
   "outputs": [],
   "source": [
    "from scripts import support, insd, kuroda, nras, metrics, vectorization as v\n",
    "import pandas as pd\n",
    "import numpy as np\n",
    "import matplotlib.pyplot as plt\n",
    "%matplotlib inline"
   ]
  },
  {
   "cell_type": "code",
   "execution_count": 2,
   "metadata": {},
   "outputs": [
    {
     "data": {
      "text/plain": [
       "((59, 59), (59, 59))"
      ]
     },
     "execution_count": 2,
     "metadata": {},
     "output_type": "execute_result"
    }
   ],
   "source": [
    "# Load base matrix\n",
    "df = pd.read_excel(\"./data/tri-2011.xls\", 'ТИоц', skiprows=1, index_col=2)\n",
    "df = df.iloc[2:-11, 2:-13].astype(np.float)\n",
    "\n",
    "# Load predicted matrix\n",
    "pred_df = pd.read_excel(\"./data/tri-2016.xls\", 'ТИоц', skiprows=1, index_col=2)\n",
    "pred_df = pred_df.iloc[2:-12, 2:-13].astype(np.float)\n",
    "shape = pred_df.shape\n",
    "\n",
    "df.shape, pred_df.shape"
   ]
  },
  {
   "cell_type": "code",
   "execution_count": 3,
   "metadata": {},
   "outputs": [
    {
     "data": {
      "text/plain": [
       "array([[7.02865e+05],\n",
       "       [8.83000e+02],\n",
       "       [6.40000e+01],\n",
       "       ...,\n",
       "       [0.00000e+00],\n",
       "       [0.00000e+00],\n",
       "       [0.00000e+00]])"
      ]
     },
     "execution_count": 3,
     "metadata": {},
     "output_type": "execute_result"
    }
   ],
   "source": [
    "# Sums of rows\\columns\n",
    "sums_rows = pred_df.sum(axis=1).values.reshape(-1, 1)\n",
    "sums_cols = pred_df.sum(axis=0).values.reshape(-1, 1)\n",
    "\n",
    "# Vectorization of matrixa\n",
    "vect_a = v.tovector(df.values)\n",
    "vect_a"
   ]
  },
  {
   "cell_type": "code",
   "execution_count": 4,
   "metadata": {},
   "outputs": [
    {
     "name": "stdout",
     "output_type": "stream",
     "text": [
      "(118, 1)\n"
     ]
    },
    {
     "data": {
      "text/plain": [
       "array([[1., 0., 0., ..., 0., 0., 0.],\n",
       "       [0., 1., 0., ..., 0., 0., 0.],\n",
       "       [0., 0., 1., ..., 0., 0., 0.],\n",
       "       ...,\n",
       "       [0., 0., 0., ..., 0., 0., 0.],\n",
       "       [0., 0., 0., ..., 0., 0., 0.],\n",
       "       [0., 0., 0., ..., 1., 1., 1.]])"
      ]
     },
     "execution_count": 4,
     "metadata": {},
     "output_type": "execute_result"
    }
   ],
   "source": [
    "# Merge column of constraints\n",
    "c = np.append(sums_rows,sums_cols,axis=0)\n",
    "print(c.shape)\n",
    "\n",
    "# Create matrix G of coefficients of constraints \n",
    "G = v.addrows(shape,sparsed=True) # Use \"sparsed\" parameter everywhere if want use fast sparsed matrix\n",
    "G = v.addcolumns(shape,G,sparsed=True) # Use \"sparsed\" parameter everywhere if want use fast sparsed matrix\n",
    "G.toarray()"
   ]
  },
  {
   "cell_type": "code",
   "execution_count": 6,
   "metadata": {},
   "outputs": [
    {
     "data": {
      "text/plain": [
       "<matplotlib.image.AxesImage at 0x1f5627bda20>"
      ]
     },
     "execution_count": 6,
     "metadata": {},
     "output_type": "execute_result"
    },
    {
     "data": {
      "image/png": "[encoded data removed]",
      "text/plain": [
       "<matplotlib.figure.Figure at 0x1f55a28fb70>"
      ]
     },
     "metadata": {},
     "output_type": "display_data"
    }
   ],
   "source": [
    "# Look on the distribution of 0s and 1s in matrix of coefficients G\n",
    "plt.spy(G.toarray(),aspect='auto')"
   ]
  },
  {
   "cell_type": "code",
   "execution_count": 7,
   "metadata": {},
   "outputs": [
    {
     "name": "stdout",
     "output_type": "stream",
     "text": [
      "Using license file C:\\Users\\Asus\\gurobi.lic\n",
      "Academic license - for non-commercial use only\n",
      "Parameter BarConvTol unchanged\n",
      "   Value: 1e-08  Min: 0.0  Max: 1.0  Default: 1e-08\n",
      "Parameter BarQCPConvTol unchanged\n",
      "   Value: 1e-06  Min: 0.0  Max: 1.0  Default: 1e-06\n",
      "Changed value of parameter DualReductions to 0\n",
      "   Prev: 1  Min: 0  Max: 1  Default: 1\n",
      "\n",
      "Metrics:\n",
      "N0 451\n",
      "PSISTAT 0.0146\n",
      "RSQ 0.9799\n",
      "MAPE 106.9969\n",
      "SWAD 0.0955\n",
      "WAPE 15.9572\n",
      "\n",
      "Result matrix:\n"
     ]
    },
    {
     "data": {
      "text/html": [
       "<div>\n",
       "<style scoped>\n",
       "    .dataframe tbody tr th:only-of-type {\n",
       "        vertical-align: middle;\n",
       "    }\n",
       "\n",
       "    .dataframe tbody tr th {\n",
       "        vertical-align: top;\n",
       "    }\n",
       "\n",
       "    .dataframe thead th {\n",
       "        text-align: right;\n",
       "    }\n",
       "</style>\n",
       "<table border=\"1\" class=\"dataframe\">\n",
       "  <thead>\n",
       "    <tr style=\"text-align: right;\">\n",
       "      <th></th>\n",
       "      <th>0</th>\n",
       "      <th>1</th>\n",
       "      <th>2</th>\n",
       "      <th>3</th>\n",
       "      <th>4</th>\n",
       "      <th>5</th>\n",
       "      <th>6</th>\n",
       "      <th>7</th>\n",
       "      <th>8</th>\n",
       "      <th>9</th>\n",
       "      <th>...</th>\n",
       "      <th>49</th>\n",
       "      <th>50</th>\n",
       "      <th>51</th>\n",
       "      <th>52</th>\n",
       "      <th>53</th>\n",
       "      <th>54</th>\n",
       "      <th>55</th>\n",
       "      <th>56</th>\n",
       "      <th>57</th>\n",
       "      <th>58</th>\n",
       "    </tr>\n",
       "  </thead>\n",
       "  <tbody>\n",
       "    <tr>\n",
       "      <th>0</th>\n",
       "      <td>1148878.585</td>\n",
       "      <td>1071.078</td>\n",
       "      <td>708.870</td>\n",
       "      <td>5.591</td>\n",
       "      <td>278.571</td>\n",
       "      <td>0.0</td>\n",
       "      <td>7.853</td>\n",
       "      <td>159.799</td>\n",
       "      <td>2119637.642</td>\n",
       "      <td>63271.385</td>\n",
       "      <td>...</td>\n",
       "      <td>1623.095</td>\n",
       "      <td>1373.313</td>\n",
       "      <td>49999.346</td>\n",
       "      <td>5631.706</td>\n",
       "      <td>29283.636</td>\n",
       "      <td>183.446</td>\n",
       "      <td>1126.099</td>\n",
       "      <td>2432.000</td>\n",
       "      <td>5148.635</td>\n",
       "      <td>0.0</td>\n",
       "    </tr>\n",
       "    <tr>\n",
       "      <th>1</th>\n",
       "      <td>1361.274</td>\n",
       "      <td>24125.982</td>\n",
       "      <td>1.640</td>\n",
       "      <td>240.807</td>\n",
       "      <td>180.279</td>\n",
       "      <td>0.0</td>\n",
       "      <td>26.598</td>\n",
       "      <td>21.528</td>\n",
       "      <td>498.805</td>\n",
       "      <td>0.000</td>\n",
       "      <td>...</td>\n",
       "      <td>20.843</td>\n",
       "      <td>114.162</td>\n",
       "      <td>7771.636</td>\n",
       "      <td>164.357</td>\n",
       "      <td>328.946</td>\n",
       "      <td>17.862</td>\n",
       "      <td>30.299</td>\n",
       "      <td>244.346</td>\n",
       "      <td>175.189</td>\n",
       "      <td>0.0</td>\n",
       "    </tr>\n",
       "    <tr>\n",
       "      <th>2</th>\n",
       "      <td>84.292</td>\n",
       "      <td>0.000</td>\n",
       "      <td>6567.301</td>\n",
       "      <td>0.000</td>\n",
       "      <td>0.000</td>\n",
       "      <td>0.0</td>\n",
       "      <td>1.253</td>\n",
       "      <td>0.000</td>\n",
       "      <td>94872.347</td>\n",
       "      <td>0.000</td>\n",
       "      <td>...</td>\n",
       "      <td>83.014</td>\n",
       "      <td>17.784</td>\n",
       "      <td>750.176</td>\n",
       "      <td>9.952</td>\n",
       "      <td>405.977</td>\n",
       "      <td>1.264</td>\n",
       "      <td>46.678</td>\n",
       "      <td>147.512</td>\n",
       "      <td>0.000</td>\n",
       "      <td>0.0</td>\n",
       "    </tr>\n",
       "    <tr>\n",
       "      <th>3</th>\n",
       "      <td>1953.567</td>\n",
       "      <td>10.903</td>\n",
       "      <td>66.529</td>\n",
       "      <td>133447.623</td>\n",
       "      <td>516.833</td>\n",
       "      <td>0.0</td>\n",
       "      <td>405.372</td>\n",
       "      <td>169.443</td>\n",
       "      <td>2103.495</td>\n",
       "      <td>0.000</td>\n",
       "      <td>...</td>\n",
       "      <td>38.543</td>\n",
       "      <td>342.235</td>\n",
       "      <td>3044.957</td>\n",
       "      <td>459.873</td>\n",
       "      <td>2777.716</td>\n",
       "      <td>162.216</td>\n",
       "      <td>28.562</td>\n",
       "      <td>274.785</td>\n",
       "      <td>255.883</td>\n",
       "      <td>0.0</td>\n",
       "    </tr>\n",
       "    <tr>\n",
       "      <th>4</th>\n",
       "      <td>391.742</td>\n",
       "      <td>0.000</td>\n",
       "      <td>0.000</td>\n",
       "      <td>610.588</td>\n",
       "      <td>456283.867</td>\n",
       "      <td>0.0</td>\n",
       "      <td>0.000</td>\n",
       "      <td>307.927</td>\n",
       "      <td>154.246</td>\n",
       "      <td>0.000</td>\n",
       "      <td>...</td>\n",
       "      <td>9.653</td>\n",
       "      <td>8154.118</td>\n",
       "      <td>0.000</td>\n",
       "      <td>0.000</td>\n",
       "      <td>18.362</td>\n",
       "      <td>3.589</td>\n",
       "      <td>0.000</td>\n",
       "      <td>0.000</td>\n",
       "      <td>0.000</td>\n",
       "      <td>0.0</td>\n",
       "    </tr>\n",
       "  </tbody>\n",
       "</table>\n",
       "<p>5 rows × 59 columns</p>\n",
       "</div>"
      ],
      "text/plain": [
       "            0          1         2           3           4    5        6   \\\n",
       "0  1148878.585   1071.078   708.870       5.591     278.571  0.0    7.853   \n",
       "1     1361.274  24125.982     1.640     240.807     180.279  0.0   26.598   \n",
       "2       84.292      0.000  6567.301       0.000       0.000  0.0    1.253   \n",
       "3     1953.567     10.903    66.529  133447.623     516.833  0.0  405.372   \n",
       "4      391.742      0.000     0.000     610.588  456283.867  0.0    0.000   \n",
       "\n",
       "        7            8          9  ...         49        50         51  \\\n",
       "0  159.799  2119637.642  63271.385 ...   1623.095  1373.313  49999.346   \n",
       "1   21.528      498.805      0.000 ...     20.843   114.162   7771.636   \n",
       "2    0.000    94872.347      0.000 ...     83.014    17.784    750.176   \n",
       "3  169.443     2103.495      0.000 ...     38.543   342.235   3044.957   \n",
       "4  307.927      154.246      0.000 ...      9.653  8154.118      0.000   \n",
       "\n",
       "         52         53       54        55        56        57   58  \n",
       "0  5631.706  29283.636  183.446  1126.099  2432.000  5148.635  0.0  \n",
       "1   164.357    328.946   17.862    30.299   244.346   175.189  0.0  \n",
       "2     9.952    405.977    1.264    46.678   147.512     0.000  0.0  \n",
       "3   459.873   2777.716  162.216    28.562   274.785   255.883  0.0  \n",
       "4     0.000     18.362    3.589     0.000     0.000     0.000  0.0  \n",
       "\n",
       "[5 rows x 59 columns]"
      ]
     },
     "execution_count": 7,
     "metadata": {},
     "output_type": "execute_result"
    }
   ],
   "source": [
    "# Run method of projection - INSD(~201 ms) and got metrics and result matrix \n",
    "res_df = insd.insd(aa=vect_a,c=c, G=G,sparsed=True) # Use \"sparsed\" parameter everywhere if want use fast sparsed matrix\n",
    "print(\"\\nMetrics:\")\n",
    "metrics.get_values(res_df,pred_df.values)\n",
    "print(\"\\nResult matrix:\")\n",
    "pd.DataFrame(v.tomatrix(res_df)).round(3).head()"
   ]
  },
  {
   "cell_type": "code",
   "execution_count": 8,
   "metadata": {},
   "outputs": [
    {
     "name": "stdout",
     "output_type": "stream",
     "text": [
      "27\n",
      "\n",
      "Metrics:\n",
      "N0 450\n",
      "PSISTAT 0.0142\n",
      "RSQ 0.9806\n",
      "MAPE 105.1074\n",
      "SWAD 0.0935\n",
      "WAPE 15.6903\n"
     ]
    }
   ],
   "source": [
    "# Run method of projection - NRAS(~181 ms) and got metrics and result matrix \n",
    "res_df = nras.nras(G=G,aa=vect_a,c=c,accuracy=0.01, limit = 100,sparsed=True)\n",
    "print(\"\\nMetrics:\")\n",
    "metrics.get_values(res_df,pred_df.values)"
   ]
  },
  {
   "cell_type": "code",
   "execution_count": 9,
   "metadata": {
    "scrolled": true
   },
   "outputs": [
    {
     "name": "stdout",
     "output_type": "stream",
     "text": [
      "Parameter BarConvTol unchanged\n",
      "   Value: 1e-08  Min: 0.0  Max: 1.0  Default: 1e-08\n",
      "Parameter BarQCPConvTol unchanged\n",
      "   Value: 1e-06  Min: 0.0  Max: 1.0  Default: 1e-06\n",
      "Parameter DualReductions unchanged\n",
      "   Value: 1  Min: 0  Max: 1  Default: 1\n",
      "\n",
      "Metrics:\n",
      "N0 530\n",
      "PSISTAT 0.0372\n",
      "RSQ 0.9732\n",
      "MAPE 633.9209\n",
      "SWAD 0.1016\n",
      "WAPE 21.113\n"
     ]
    }
   ],
   "source": [
    "# Run method of projection - Kuroda(~331 ms) and got metrics and result matrix\n",
    "res_df = kuroda.kuroda(G=G,aa=vect_a,c=c,mtype=2,sparsed=True)\n",
    "print(\"\\nMetrics:\")\n",
    "metrics.get_values(res_df,pred_df.values)"
   ]
  },
  {
   "cell_type": "code",
   "execution_count": null,
   "metadata": {
    "collapsed": true
   },
   "outputs": [],
   "source": []
  }
 ],
 "metadata": {
  "kernelspec": {
   "display_name": "Python 3",
   "language": "python",
   "name": "python3"
  },
  "language_info": {
   "codemirror_mode": {
    "name": "ipython",
    "version": 3
   },
   "file_extension": ".py",
   "mimetype": "text/x-python",
   "name": "python",
   "nbconvert_exporter": "python",
   "pygments_lexer": "ipython3",
   "version": "3.6.3"
  }
 },
 "nbformat": 4,
 "nbformat_minor": 2
}
